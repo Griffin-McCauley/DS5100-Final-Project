{
 "cells": [
  {
   "cell_type": "markdown",
   "id": "45762487-d33f-486d-8e38-2cdea04e3528",
   "metadata": {},
   "source": [
    "# Metadata\n",
    "\n",
    "* Title: **Final Project Report**\n",
    "* Class: DS 5100\n",
    "* Date: 17 July 2022\n",
    "* Student Name: Griffin McCauley\n",
    "* Student Net ID: kzj5qw\n",
    "* This URL: https://github.com/Griffin-McCauley/DS5100-Final-Project/blob/main/final-project-submission.ipynb\n",
    "* GitHub Repo URL: https://github.com/Griffin-McCauley/DS5100-Final-Project"
   ]
  },
  {
   "cell_type": "markdown",
   "id": "d32cb273-9a40-4909-a7ce-51f6e4958d3c",
   "metadata": {},
   "source": [
    "# The Monte Carlo Module"
   ]
  },
  {
   "cell_type": "code",
   "execution_count": 1,
   "id": "a0743efc-a785-4b5c-a9e6-b65d4507a67f",
   "metadata": {},
   "outputs": [],
   "source": [
    "import numpy as np\n",
    "import pandas as pd\n",
    "\n",
    "class Die():\n",
    "    '''This Die class defines an object which has N sides, or “faces”,\n",
    "    and W weights, and can be rolled to select a face.'''\n",
    "    \n",
    "    def __init__(self, faces):\n",
    "        '''\n",
    "        This initializer takes an array of faces (strings or numbers)\n",
    "        as an input and defines an unnormalized uniform distribution\n",
    "        over the sample space of faces, storing this distribution as a\n",
    "        private dataframe.\n",
    "        '''\n",
    "        if len(set(map(type, faces))) == 1:\n",
    "            self.faces = np.array(faces)\n",
    "            self.weights = np.ones(len(faces))\n",
    "            self._die = pd.DataFrame({'faces':self.faces,\n",
    "                                      'weights':self.weights})\n",
    "        else:\n",
    "            return print('Please input face values of the same data type.')\n",
    "        \n",
    "    def change_weight(self, face, new_weight):\n",
    "        '''\n",
    "        Purpose: to change the weight of a single side\n",
    "        Inputs: \n",
    "            - the face value to be changed (string or number depending\n",
    "            on initialization)\n",
    "            - the new weight (float)\n",
    "        Output: a modified weights distribution\n",
    "        '''\n",
    "        if face not in self.faces:\n",
    "            return print('Please input a valid face value.')\n",
    "        try:\n",
    "            new_weight = float(new_weight)\n",
    "        except ValueError:\n",
    "            return print('Please input a valid weight value (i.e. a float).')       \n",
    "        self.weights[self.faces == face] = new_weight\n",
    "        self._die['weights'] = self.weights\n",
    "                \n",
    "    def roll(self, n = 1):\n",
    "        '''\n",
    "        Purpose: to roll the die one or more times\n",
    "        Input: a number to specify how many times the dice should be rolled\n",
    "        (defaults to 1)\n",
    "        Output: a list of outcomes\n",
    "        '''\n",
    "        try:\n",
    "            n = round(float(n))\n",
    "        except ValueError:\n",
    "            return print('Please input a valid number of rolls (i.e. an \\\n",
    "            integer).')\n",
    "        probs = [i/sum(self.weights) for i in self.weights]\n",
    "        return [self._die.faces.sample(weights=probs).values[0] for roll \n",
    "                in range(n)]\n",
    "            \n",
    "    def show_die(self):\n",
    "        '''This method shows the die’s current set of faces and weights.'''\n",
    "        return self._die\n",
    "    \n",
    "        \n",
    "class Game():\n",
    "    '''This Game class defines an object which consists of rolling of one\n",
    "    or more dice of the same kind one or more times. '''\n",
    "    \n",
    "    def __init__(self, dice):\n",
    "        '''This initializer takes a list of already instantiated similar\n",
    "        Die objects as its single input parameter.'''\n",
    "        self.dice = dice\n",
    "        \n",
    "    def play(self, n):\n",
    "        '''\n",
    "        Purpose: to play the game by rolling the dice a specified number\n",
    "        of times\n",
    "        Input: a number to specify how many times the dice should be rolled\n",
    "        Output: a private dataframe of shape N rolls by M dice with each\n",
    "        entry indicating the face rolled in that instance\n",
    "        '''\n",
    "        try:\n",
    "            n = round(float(n))\n",
    "        except ValueError:\n",
    "            return print('Please input a valid number of rolls (i.e. an \\\n",
    "            integer).')\n",
    "        results = pd.DataFrame()\n",
    "        for i in range(len(self.dice)):\n",
    "            results = pd.concat([results,\n",
    "                                 pd.DataFrame({i:self.dice[i].roll(n)})], \n",
    "                                axis=1)\n",
    "        results.index = [i+1 for i in range(n)]\n",
    "        results.index.name = 'roll_number'\n",
    "        results.columns.name = 'die_number'\n",
    "        self._results = results\n",
    "\n",
    "    def show_result(self, form = 'wide'):\n",
    "        '''\n",
    "        Purpose: to pass the private dataframe of results to the user\n",
    "        Input: a form parameter ('wide' or 'narrow'), specifying whether\n",
    "        to return the dataframe in 'narrow' or 'wide' form (defaults to\n",
    "        'wide')\n",
    "        Output: the private dataframe of results\n",
    "        '''\n",
    "        if form == 'wide':\n",
    "            return self._results\n",
    "        elif form == 'narrow':\n",
    "            return self._results.stack().to_frame('face_rolled')\n",
    "        elif form not in ['wide','narrow']:\n",
    "            raise Exception(\"The form parameter must be 'wide' or 'narrow'.\")\n",
    "    \n",
    "        \n",
    "class Analyzer():\n",
    "    '''This Analyzer class defines an object which takes the results of a\n",
    "    single game and computes various descriptive statistical properties\n",
    "    about it.'''\n",
    "\n",
    "    def __init__(self, game):\n",
    "        '''This initializer takes a game object as its single input\n",
    "        parameter.'''\n",
    "        self.game = game\n",
    "        self._faces_dtype = game.dice[0].faces.dtype\n",
    "        \n",
    "    def jackpot(self):\n",
    "        '''This method computes how many times the game resulted in all\n",
    "        faces being identical and stores a boolean dataframe showing which\n",
    "        rolls resulted in a jackpot as a public attribute.'''\n",
    "        jackpot_df = pd.DataFrame()\n",
    "        for i in range(len(self.game._results)):\n",
    "            jackpot_df = \\\n",
    "            pd.concat([jackpot_df, \n",
    "                       pd.DataFrame({'jackpot': \n",
    "                                     [(len(set(self.game._results.iloc[i])) \n",
    "                                       == 1)]})], axis = 0)\n",
    "        jackpot_df.index = [i+1 for i in range(len(self.game._results))]\n",
    "        jackpot_df.index.name = 'roll_number'\n",
    "        self.jackpots = jackpot_df\n",
    "        return int(sum(self.jackpots['jackpot']))\n",
    "    \n",
    "    def combo(self):\n",
    "        '''This method computes the distinct combinations of faces rolled\n",
    "        along with their counts and stores this as a multi-indexed\n",
    "        dataframe in a public attribute.'''\n",
    "        rolls = [sorted(list(self.game._results.iloc[i])) for i in\n",
    "                 range(len(self.game._results))]\n",
    "        self.combos = pd.DataFrame(rolls).value_counts().to_frame('counts')\n",
    "        \n",
    "    def face_counts_per_roll(self):\n",
    "        '''This method computes how many times a given face is rolled in\n",
    "        each event and stores this as a dataframe in a public attribute.'''\n",
    "        fcpr = pd.DataFrame()\n",
    "        for i in range(len(self.game._results)):\n",
    "            fcpr = \\\n",
    "            pd.concat([fcpr, \n",
    "                       pd.DataFrame({'Ace': \n",
    "                                     [sum(list(self.game._results.iloc[i] \n",
    "                                               == 'Ace'))], \n",
    "                                     'King': \n",
    "                                     [sum(list(self.game._results.iloc[i] \n",
    "                                               == 'King'))], \n",
    "                                     'Queen': \n",
    "                                     [sum(list(self.game._results.iloc[i] \n",
    "                                               == 'Queen'))], \n",
    "                                     'Jack': \\\n",
    "                                     [sum(list(self.game._results.iloc[i] \n",
    "                                               == 'Jack'))]})], \n",
    "                      axis = 0)\n",
    "        fcpr.index = [i+1 for i in range(len(self.game._results))]\n",
    "        fcpr.index.name = 'roll_number'\n",
    "        self.face_counts_per_roll = fcpr"
   ]
  },
  {
   "cell_type": "markdown",
   "id": "4c81c4f0-b6ff-46ab-ba2c-9de7f0179715",
   "metadata": {},
   "source": [
    "# Test Module"
   ]
  },
  {
   "cell_type": "code",
   "execution_count": 2,
   "id": "14b878d8-258b-4cf2-ad88-b8ee90d43977",
   "metadata": {},
   "outputs": [
    {
     "name": "stderr",
     "output_type": "stream",
     "text": [
      "test_001_init (__main__.DieGameTestSuite)\n",
      "This test checks that the __init__ method of the Die class ... ok\n",
      "test_002_change_weight_success (__main__.DieGameTestSuite)\n",
      "This test checks that the change_weight method of the Die ... ok\n",
      "test_003_change_weight_failure (__main__.DieGameTestSuite)\n",
      "This test checks that the change_weight method of the Die ... ok\n",
      "test_004_roll_success (__main__.DieGameTestSuite)\n",
      "This test checks that the roll method of the Die class ... ok\n",
      "test_005_roll_failure (__main__.DieGameTestSuite)\n",
      "This test checks that the roll method of the Die class does ... ok\n",
      "test_006_show_die (__main__.DieGameTestSuite)\n",
      "This test checks that the show_die method of the Die class ... ok\n",
      "test_010_init (__main__.DieGameTestSuite)\n",
      "This test checks that the __init__ method of the Game class ... ok\n",
      "test_020_play_success (__main__.DieGameTestSuite)\n",
      "This test checks that the play method of the Game class ... ok\n",
      "test_030_play_failure (__main__.DieGameTestSuite)\n",
      "This test checks that play method of the Game class does not ... ok\n",
      "test_040_show_result_narrow (__main__.DieGameTestSuite)\n",
      "This test checks that the show_result method of the Game class ... ok\n",
      "test_050_show_result_failure (__main__.DieGameTestSuite)\n",
      "This test checks that the show_result method of the Game class ... ok\n"
     ]
    },
    {
     "name": "stdout",
     "output_type": "stream",
     "text": [
      "Welcome to my Monte Carlo module.\n",
      "Please input a valid weight value (i.e. a float).\n",
      "Please input a valid number of rolls (i.e. an integer).\n",
      "Please input a valid number of rolls (i.e. an integer).\n"
     ]
    },
    {
     "name": "stderr",
     "output_type": "stream",
     "text": [
      "test_100_init (__main__.DieGameTestSuite)\n",
      "This test checks that the __init__ method of the Analyzer class ... ok\n",
      "test_200_jackpot (__main__.DieGameTestSuite)\n",
      "This test checks that jackpot method of the Analyzer class outputs ... ok\n",
      "test_300_combo (__main__.DieGameTestSuite)\n",
      "This test checks that the combo method of the Analyzer class ... ok\n",
      "test_400_face_counts_per_roll (__main__.DieGameTestSuite)\n",
      "This test checks that the face_counts_per_roll method of the ... ok\n",
      "\n",
      "----------------------------------------------------------------------\n",
      "Ran 15 tests in 0.458s\n",
      "\n",
      "OK\n"
     ]
    }
   ],
   "source": [
    "import numpy as np\n",
    "import pandas as pd\n",
    "import unittest\n",
    "from montecarlo.montecarlo import Die, Game, Analyzer\n",
    "\n",
    "class DieGameTestSuite(unittest.TestCase):\n",
    "    '''This DieGameTestSuite class contains the test suite of methods\n",
    "    used to unit test the Die, Game, and Analyzer classes.'''\n",
    "    \n",
    "    def test_001_init(self):\n",
    "        '''This test checks that the __init__ method of the Die class\n",
    "        correctly initializes a die object.'''\n",
    "        die = Die(['H', 'T'])\n",
    "        self.assertTrue(all(np.array(die._die['faces']) == \n",
    "                            np.array(['H','T'])) and \n",
    "                        all(np.array(die._die['weights']) == \n",
    "                            np.ones(len(['H','T']))))\n",
    "        \n",
    "    def test_002_change_weight_success(self):\n",
    "        '''This test checks that the change_weight method of the Die \n",
    "        class correctly changes the weight of a single side.'''\n",
    "        die = Die(['Ace', 'King', 'Queen', 'Jack'])\n",
    "        die.change_weight('Ace', 10)\n",
    "        self.assertTrue(die.weights[die.faces == 'Ace'] == 10 and \n",
    "                        all(weight == 1 for weight in \n",
    "                            die.weights[die.faces != 'Ace']))\n",
    "        \n",
    "    def test_003_change_weight_failure(self):\n",
    "        '''This test checks that the change_weight method of the Die \n",
    "        class does not change the weight of a single side when given \n",
    "        an incorrect input.'''\n",
    "        die = Die(['Ace', 'King', 'Queen', 'Jack'])\n",
    "        die.change_weight('Ace', 'ten')\n",
    "        self.assertTrue(die.weights[die.faces == 'Ace'] == 1)\n",
    "        \n",
    "    def test_004_roll_success(self):\n",
    "        '''This test checks that the roll method of the Die class \n",
    "        correctly outputs a list of outcomes.'''\n",
    "        die = Die(['H', 'T'])\n",
    "        outcomes = die.roll(10)\n",
    "        self.assertTrue(len(outcomes) == 10 and all(outcome in \n",
    "                                                    ['H', 'T'] for \n",
    "                                                    outcome in outcomes))\n",
    "        \n",
    "    def test_005_roll_failure(self):\n",
    "        '''This test checks that the roll method of the Die class does \n",
    "        not output a list of outcomes when given an incorrect input.'''\n",
    "        die = Die(['H', 'T'])\n",
    "        outcomes = die.roll('ten')\n",
    "        self.assertTrue(outcomes == None)\n",
    "        \n",
    "    def test_006_show_die(self):\n",
    "        '''This test checks that the show_die method of the Die class \n",
    "        correctly returns the private dataframe of the .die attribute.'''\n",
    "        die = Die(['H', 'T'])\n",
    "        shown = die.show_die()\n",
    "        self.assertTrue(all(np.array(shown['faces']) == \n",
    "                            np.array(['H','T'])) and \n",
    "                        all(np.array(shown['weights']) == \n",
    "                            np.ones(len(['H','T']))))\n",
    "        \n",
    "            \n",
    "    def test_010_init(self):\n",
    "        '''This test checks that the __init__ method of the Game class \n",
    "        correctly initializes a game object.'''\n",
    "        die = Die(['Ace', 'King', 'Queen', 'Jack'])\n",
    "        game = Game([die, die, die])\n",
    "        self.assertTrue(all(type(die) == Die for die in game.dice))\n",
    "        \n",
    "    def test_020_play_success(self):\n",
    "        '''This test checks that the play method of the Game class \n",
    "        correctly generates the ._results attribute of the game object.'''\n",
    "        die = Die(['Ace', 'King', 'Queen', 'Jack'])\n",
    "        game = Game([die, die, die])\n",
    "        game.play(10)\n",
    "        self.assertTrue(game._results.shape == (10, 3) and \n",
    "                        game._results.isin(['Ace', 'King', 'Queen', \n",
    "                                            'Jack']).sum().sum() == 30 \n",
    "                        and game._results.index.names[0] == 'roll_number' \n",
    "                        and game._results.columns.names[0] == 'die_number')\n",
    "                \n",
    "    def test_030_play_failure(self):\n",
    "        '''This test checks that play method of the Game class does not \n",
    "        generate the ._results attribute of the game object.'''\n",
    "        die = Die(['Ace', 'King', 'Queen', 'Jack'])\n",
    "        game = Game([die, die, die])\n",
    "        game.play('ten')\n",
    "        self.assertFalse(hasattr(game, '_results'))\n",
    "        \n",
    "    def test_040_show_result_narrow(self):\n",
    "        '''This test checks that the show_result method of the Game class \n",
    "        correctly outputs the results dataframe in narrow format when \n",
    "        provided the 'narrow' argument.'''\n",
    "        die = Die(['Ace', 'King', 'Queen', 'Jack'])\n",
    "        game = Game([die, die, die])\n",
    "        game.play(10)\n",
    "        result = game.show_result('narrow')\n",
    "        self.assertTrue(result.shape == (30, 1) \n",
    "                        and result.index.names == ['roll_number', 'die_number'] \n",
    "                        and result.columns[0] == 'face_rolled')\n",
    "        \n",
    "    def test_050_show_result_failure(self):\n",
    "        '''This test checks that the show_result method of the Game class \n",
    "        raises an exception if the user passes an invalid option (i.e. not \n",
    "        'wide' or 'narrow').'''\n",
    "        die = Die(['Ace', 'King', 'Queen', 'Jack'])\n",
    "        game = Game([die, die, die])\n",
    "        game.play(10)\n",
    "        with self.assertRaises(Exception):\n",
    "            game.show_result('standard')\n",
    "            \n",
    "                   \n",
    "    def test_100_init(self):\n",
    "        '''This test checks that the __init__ method of the Analyzer class \n",
    "        correctly initializes an analyzer object.'''\n",
    "        die = Die(['Ace', 'King', 'Queen', 'Jack'])\n",
    "        game = Game([die, die, die])\n",
    "        game.play(10)\n",
    "        analyzer = Analyzer(game)\n",
    "        self.assertTrue(analyzer.game._results.shape == (10, 3))\n",
    "        \n",
    "    def test_200_jackpot(self):\n",
    "        '''This test checks that jackpot method of the Analyzer class outputs \n",
    "        a value of the correct type and that it correctly generates the \n",
    "        .jackpots attribute of the analyzer object.'''\n",
    "        die = Die(['Ace', 'King', 'Queen', 'Jack'])\n",
    "        game = Game([die, die, die])\n",
    "        game.play(10)\n",
    "        analyzer = Analyzer(game)\n",
    "        jackpots = analyzer.jackpot()\n",
    "        self.assertTrue(type(jackpots) == int and len(analyzer.jackpots) == 10)\n",
    "        \n",
    "    def test_300_combo(self):\n",
    "        '''This test checks that the combo method of the Analyzer class \n",
    "        correctly generates the .combos attribute of the analyzer object.'''\n",
    "        die = Die(['Ace', 'King', 'Queen', 'Jack'])\n",
    "        game = Game([die, die, die])\n",
    "        game.play(10)\n",
    "        analyzer = Analyzer(game)\n",
    "        analyzer.combo()\n",
    "        self.assertTrue(hasattr(analyzer, 'combos') \n",
    "                        and analyzer.combos.columns[0] == 'counts' \n",
    "                        and sum(analyzer.combos['counts']) == 10)\n",
    "        \n",
    "    def test_400_face_counts_per_roll(self):\n",
    "        '''This test checks that the face_counts_per_roll method of the \n",
    "        Analyzer class correctly generates the .face_counts_per_roll \n",
    "        attribute of the analyzer object.'''\n",
    "        die = Die(['Ace', 'King', 'Queen', 'Jack'])\n",
    "        game = Game([die, die, die])\n",
    "        game.play(10)\n",
    "        analyzer = Analyzer(game)\n",
    "        analyzer.face_counts_per_roll()\n",
    "        self.assertTrue(hasattr(analyzer, 'face_counts_per_roll') \n",
    "                        and analyzer.face_counts_per_roll.shape == (10, 4) \n",
    "                        and all([sum(analyzer.face_counts_per_roll.iloc[i]) \n",
    "                                 == 3 for i in \n",
    "                                 range(len(analyzer.face_counts_per_roll))]))\n",
    "           \n",
    "                        \n",
    "if __name__ == '__main__':\n",
    "    unittest.main(verbosity=2,\n",
    "                  #the following line allows this cell to exist in a .ipynb\n",
    "                  #file\n",
    "                  argv=['first-arg-is-ignored'], exit=False)"
   ]
  },
  {
   "cell_type": "markdown",
   "id": "3c2b90b6-ac8b-43fa-a069-cb5b0b22aee0",
   "metadata": {},
   "source": [
    "# Test Results"
   ]
  },
  {
   "cell_type": "markdown",
   "id": "0c716d16-6aff-4db2-a773-49f0dd22d77b",
   "metadata": {},
   "source": [
    "test_001_init (__main__.DieGameTestSuite)\n",
    "\n",
    "This test checks that the __init__ method of the Die class correctly initializes a die object. ... ok\n",
    "\n",
    "test_002_change_weight_success (__main__.DieGameTestSuite)\n",
    "\n",
    "This test checks that the change_weight method of the Die class correctly changes the weight of a single side. ... ok\n",
    "\n",
    "test_003_change_weight_failure (__main__.DieGameTestSuite)\n",
    "\n",
    "This test checks that the change_weight method of the Die class does not change the weight of a single side when given an incorrect input. ... ok\n",
    "\n",
    "test_004_roll_success (__main__.DieGameTestSuite)\n",
    "\n",
    "This test checks that the roll method of the Die class correctly outputs a list of outcomes. ... ok\n",
    "\n",
    "test_005_roll_failure (__main__.DieGameTestSuite)\n",
    "\n",
    "This test checks that the roll method of the Die class does not output a list of outcomes when given an incorrect input. ... ok\n",
    "\n",
    "test_006_show_die (__main__.DieGameTestSuite)\n",
    "\n",
    "This test checks that the show_die method of the Die class correctly returns the private dataframe of the .die attribute. ... ok\n",
    "\n",
    "test_010_init (__main__.DieGameTestSuite)\n",
    "\n",
    "This test checks that the __init__ method of the Game class correctly initializes a game object. ... ok\n",
    "\n",
    "test_020_play_success (__main__.DieGameTestSuite)\n",
    "\n",
    "This test checks that the play method of the Game class correctly generates the ._results attribute of the game object. ... ok\n",
    "\n",
    "test_030_play_failure (__main__.DieGameTestSuite)\n",
    "\n",
    "This test checks that play method of the Game class does not generate the ._results attribute of the game object. ... ok\n",
    "\n",
    "test_040_show_result_narrow (__main__.DieGameTestSuite)\n",
    "\n",
    "This test checks that the show_result method of the Game class correctly outputs the results dataframe in narrow format when provided the 'narrow' argument. ... ok\n",
    "\n",
    "test_050_show_result_failure (__main__.DieGameTestSuite)\n",
    "\n",
    "This test checks that the show_result method of the Game class raises an exception if the user passes an invalid option (i.e. not 'wide' or 'narrow'). ... ok\n",
    "\n",
    "test_100_init (__main__.DieGameTestSuite)\n",
    "\n",
    "This test checks that the __init__ method of the Analyzer class correctly initializes an analyzer object. ... ok\n",
    "\n",
    "test_200_jackpot (__main__.DieGameTestSuite)\n",
    "\n",
    "This test checks that jackpot method of the Analyzer class outputs a value of the correct type and that it correctly generates the .jackpots attribute of the analyzer object. ... ok\n",
    "\n",
    "test_300_combo (__main__.DieGameTestSuite)\n",
    "\n",
    "This test checks that the combo method of the Analyzer class correctly generates the .combos attribute of the analyzer object. ... ok\n",
    "\n",
    "test_400_face_counts_per_roll (__main__.DieGameTestSuite)\n",
    "\n",
    "This test checks that the face_counts_per_roll method of the Analyzer class correctly generates the .face_counts_per_roll attribute of the analyzer object. ... ok\n",
    "\n",
    "----------------------------------------------------------------------\n",
    "Ran 15 tests in 0.199s\n",
    "\n",
    "OK"
   ]
  },
  {
   "cell_type": "markdown",
   "id": "7c44695d-d1b3-4edf-9f94-e64d7446f199",
   "metadata": {},
   "source": [
    "# Scenarios\n",
    "\n",
    "Code blocks with your scenarios and their outputs. \n",
    "\n",
    "These should have appropriate import statements even though the code is now in the same notebook as the classes it calls. "
   ]
  },
  {
   "cell_type": "code",
   "execution_count": 3,
   "id": "eb4547c3-6547-411e-a385-142f649e5e85",
   "metadata": {},
   "outputs": [],
   "source": [
    "import numpy as np\n",
    "import pandas as pd\n",
    "import matplotlib.pyplot as plt\n",
    "from montecarlo.montecarlo import Die, Game, Analyzer"
   ]
  },
  {
   "cell_type": "markdown",
   "id": "90b7abd8-f4a7-4d71-bc9a-746640516b98",
   "metadata": {},
   "source": [
    "## Scenario 1: A 2-headed coin"
   ]
  },
  {
   "cell_type": "markdown",
   "id": "146bccb0-9550-46dc-8db9-b943da7e297d",
   "metadata": {},
   "source": [
    "#### 1. Create a fair coin (with faces H and T) and one unfair coin, in which one of the faces has a weight of 5 and the others 1."
   ]
  },
  {
   "cell_type": "code",
   "execution_count": 4,
   "id": "815eae36-4357-442a-894e-d056ebb8f998",
   "metadata": {},
   "outputs": [],
   "source": [
    "fair_coin = Die(['H', 'T'])\n",
    "unfair_coin = Die(['H', 'T'])\n",
    "unfair_coin.change_weight('H', 5)"
   ]
  },
  {
   "cell_type": "markdown",
   "id": "0e0c905e-4bb3-4994-9469-1ee7672f7ef1",
   "metadata": {},
   "source": [
    "#### 2. Play a game of 1000 flips of three coins with all fair dice."
   ]
  },
  {
   "cell_type": "code",
   "execution_count": 5,
   "id": "b35f6799-a24c-4ff4-81e9-1e7c7beb2f5f",
   "metadata": {},
   "outputs": [],
   "source": [
    "num_rolls = 1000\n",
    "fair_game = Game([fair_coin, fair_coin, fair_coin])\n",
    "fair_game.play(num_rolls)"
   ]
  },
  {
   "cell_type": "markdown",
   "id": "33e0612a-d3e7-422e-8129-f8a98eca5322",
   "metadata": {},
   "source": [
    "#### 3. Play a game of 1000 flips with two unfair dice and one fair die."
   ]
  },
  {
   "cell_type": "code",
   "execution_count": 6,
   "id": "01c08ff8-3792-4c24-913d-00ba3dc01ba5",
   "metadata": {},
   "outputs": [],
   "source": [
    "unfair_game = Game([fair_coin, unfair_coin, unfair_coin])\n",
    "unfair_game.play(num_rolls)"
   ]
  },
  {
   "cell_type": "markdown",
   "id": "f95b49d1-e4c4-4683-81ad-8cfd7cc1419d",
   "metadata": {},
   "source": [
    "#### 4. For each game, use an Analyzer object to determine the relative frequency of jackpots – getting either all Hs or all Ts.\n",
    "##### (5. Compute relative frequency as the number of jackpots over the total number of rolls.)"
   ]
  },
  {
   "cell_type": "code",
   "execution_count": 7,
   "id": "4a17873d-b847-46ad-8740-c65840f802fb",
   "metadata": {},
   "outputs": [
    {
     "name": "stdout",
     "output_type": "stream",
     "text": [
      "Relative fair frequency: 0.259\n"
     ]
    }
   ],
   "source": [
    "fair_analyzer = Analyzer(fair_game)\n",
    "relative_fair_frequency = fair_analyzer.jackpot()/num_rolls\n",
    "print('Relative fair frequency:', relative_fair_frequency)"
   ]
  },
  {
   "cell_type": "code",
   "execution_count": 8,
   "id": "545a5ad3-16cf-4b8a-8837-8d0c785a4cae",
   "metadata": {},
   "outputs": [
    {
     "name": "stdout",
     "output_type": "stream",
     "text": [
      "Expected fair frequency: 0.25\n"
     ]
    }
   ],
   "source": [
    "expected_fair_frequency = 2*(1/2)**3\n",
    "print('Expected fair frequency:', expected_fair_frequency)"
   ]
  },
  {
   "cell_type": "code",
   "execution_count": 9,
   "id": "de28318c-aa6e-419a-97dc-76947faab752",
   "metadata": {},
   "outputs": [
    {
     "name": "stdout",
     "output_type": "stream",
     "text": [
      "Relative unfair frequency: 0.352\n"
     ]
    }
   ],
   "source": [
    "unfair_analyzer = Analyzer(unfair_game)\n",
    "relative_unfair_frequency = unfair_analyzer.jackpot()/num_rolls\n",
    "print('Relative unfair frequency:', relative_unfair_frequency)"
   ]
  },
  {
   "cell_type": "code",
   "execution_count": 10,
   "id": "25e3f2a6-b77c-47cc-a31c-53ad83b9da63",
   "metadata": {},
   "outputs": [
    {
     "name": "stdout",
     "output_type": "stream",
     "text": [
      "Expected unfair frequency: 0.36111111111111116\n"
     ]
    }
   ],
   "source": [
    "expected_unfair_frequency = (1/2)*(5/6)*(5/6) + (1/2)*(1/6)*(1/6)\n",
    "print('Expected unfair frequency:', expected_unfair_frequency)"
   ]
  },
  {
   "cell_type": "markdown",
   "id": "595fece6-f976-4c77-9a9b-43e079f03681",
   "metadata": {},
   "source": [
    "#### 6. Show your results, comparing the two relative frequencies, in a simple bar chart."
   ]
  },
  {
   "cell_type": "code",
   "execution_count": 11,
   "id": "66204b6f-14b8-4614-bfd2-8b3ddae0e77e",
   "metadata": {},
   "outputs": [
    {
     "data": {
      "image/png": "[encoded data removed]",
      "text/plain": [
       "<Figure size 432x288 with 1 Axes>"
      ]
     },
     "metadata": {
      "needs_background": "light"
     },
     "output_type": "display_data"
    }
   ],
   "source": [
    "fig = plt.figure()\n",
    "\n",
    "plt.bar(['Relative Fair Frequency', 'Relative Unfair Frequency'], \n",
    "        [relative_fair_frequency, relative_unfair_frequency]);"
   ]
  },
  {
   "cell_type": "markdown",
   "id": "92793a09-0024-465d-b272-2ef8b9a6c21c",
   "metadata": {},
   "source": [
    "## Scenario 2: A 6-sided die"
   ]
  },
  {
   "cell_type": "markdown",
   "id": "8d9bf2b2-bf61-42b3-b777-a21543fe3056",
   "metadata": {},
   "source": [
    "#### 1. Create a fair die and two unfair dice, all of six sides with the faces 1 through 6. One unfair die (Type 1) will weight 6 five times more than the others (i.e. it has weight of 5 and the others a weight of 1 each). The other unfair die (Type 2) will  weight 1 five times more than the others."
   ]
  },
  {
   "cell_type": "code",
   "execution_count": 12,
   "id": "7218e98e-6ec0-4766-8793-5b386ce6ee24",
   "metadata": {},
   "outputs": [],
   "source": [
    "fair_die = Die([1, 2, 3, 4, 5, 6])\n",
    "unfair_die_type1 = Die([1, 2, 3, 4, 5, 6])\n",
    "unfair_die_type1.change_weight(6, 5)\n",
    "unfair_die_type2 = Die([1, 2, 3, 4, 5, 6])\n",
    "unfair_die_type2.change_weight(1, 5)"
   ]
  },
  {
   "cell_type": "markdown",
   "id": "6ef66646-ff63-43ce-993b-f8646b252edc",
   "metadata": {},
   "source": [
    "#### 2. Play a game of 10000 rolls with 5 fair dice."
   ]
  },
  {
   "cell_type": "code",
   "execution_count": 13,
   "id": "981fa43e-f799-43fa-8b4e-4c5f9bdf4ef1",
   "metadata": {},
   "outputs": [],
   "source": [
    "num_rolls = 10000\n",
    "fair_game = Game([fair_die, fair_die, fair_die, fair_die, fair_die])\n",
    "fair_game.play(num_rolls)"
   ]
  },
  {
   "cell_type": "markdown",
   "id": "c8c63150-5f3e-444a-babe-6be2f5e91935",
   "metadata": {},
   "source": [
    "#### 3. Play a game of 10000 rolls with 2 unfair dice of type 1, 1 unfair die of type 2, and the rest fair dice."
   ]
  },
  {
   "cell_type": "code",
   "execution_count": 14,
   "id": "12f9be4b-5069-44b8-99b4-894a047a4fdf",
   "metadata": {},
   "outputs": [],
   "source": [
    "unfair_game = Game([unfair_die_type1, unfair_die_type1, unfair_die_type2, \n",
    "                    fair_die, fair_die])\n",
    "unfair_game.play(num_rolls)"
   ]
  },
  {
   "cell_type": "markdown",
   "id": "fe433a15-715c-4f95-96a4-35d5fe04cc97",
   "metadata": {},
   "source": [
    "#### 4. For each game, use an Analyzer object to determine the relative frequency of jackpots and show your results, comparing the two relative frequencies, in a simple bar chart."
   ]
  },
  {
   "cell_type": "code",
   "execution_count": 15,
   "id": "7f92f898-f939-47f2-9533-1e7bdd56cc99",
   "metadata": {},
   "outputs": [
    {
     "name": "stdout",
     "output_type": "stream",
     "text": [
      "Relative fair frequency: 0.001\n",
      "Expected fair frequency: 0.0007716049382716048\n"
     ]
    }
   ],
   "source": [
    "fair_analyzer = Analyzer(fair_game)\n",
    "fair_jackpots = fair_analyzer.jackpot()\n",
    "relative_fair_frequency = fair_jackpots/num_rolls\n",
    "print('Relative fair frequency:', relative_fair_frequency)\n",
    "expected_fair_frequency = (1/6)**4\n",
    "print('Expected fair frequency:', expected_fair_frequency)"
   ]
  },
  {
   "cell_type": "code",
   "execution_count": 16,
   "id": "55fef609-7bf2-4552-9a0f-2bd3681b06ce",
   "metadata": {},
   "outputs": [
    {
     "name": "stdout",
     "output_type": "stream",
     "text": [
      "Relative unfair frequency: 0.0009\n",
      "Expected unfair frequency: 0.0009444444444444444\n"
     ]
    }
   ],
   "source": [
    "unfair_analyzer = Analyzer(unfair_game)\n",
    "unfair_jackpots = unfair_analyzer.jackpot()\n",
    "relative_unfair_frequency = unfair_jackpots/num_rolls\n",
    "print('Relative unfair frequency:', relative_unfair_frequency)\n",
    "expected_unfair_frequency = ((1/10)*(1/10)*(1/2)*(1/6)*(1/6)) + \\\n",
    "((1/10)*(1/10)*(1/10)*(1/6)*(1/6)) + ((1/10)*(1/10)*(1/10)*(1/6)*(1/6)) + \\\n",
    "((1/10)*(1/10)*(1/10)*(1/6)*(1/6)) + ((1/10)*(1/10)*(1/10)*(1/6)*(1/6)) + \\\n",
    "((1/2)*(1/2)*(1/10)*(1/6)*(1/6))\n",
    "print('Expected unfair frequency:', expected_unfair_frequency)"
   ]
  },
  {
   "cell_type": "code",
   "execution_count": 17,
   "id": "b5dd1974-e87e-4f60-b15b-5f4d5df00217",
   "metadata": {},
   "outputs": [
    {
     "data": {
      "image/png": "[encoded data removed]",
      "text/plain": [
       "<Figure size 432x288 with 1 Axes>"
      ]
     },
     "metadata": {
      "needs_background": "light"
     },
     "output_type": "display_data"
    }
   ],
   "source": [
    "fig = plt.figure()\n",
    "\n",
    "plt.bar(['Relative Fair Frequency', 'Relative Unfair Frequency'], \n",
    "        [relative_fair_frequency, relative_unfair_frequency]);"
   ]
  },
  {
   "cell_type": "markdown",
   "id": "95e91a40-1726-4263-8146-65eb0df5f2c9",
   "metadata": {},
   "source": [
    "#### 5. Also compute 10 most frequent combinations of faces for each game. Plot each of these as bar charts."
   ]
  },
  {
   "cell_type": "code",
   "execution_count": 18,
   "id": "630f14a1-d2c1-4fa2-a456-7aea6202b682",
   "metadata": {},
   "outputs": [
    {
     "data": {
      "image/png": "[encoded data removed]",
      "text/plain": [
       "<Figure size 432x288 with 1 Axes>"
      ]
     },
     "metadata": {
      "needs_background": "light"
     },
     "output_type": "display_data"
    }
   ],
   "source": [
    "fair_analyzer.combo()\n",
    "fair_analyzer.combos[:10].plot.bar();"
   ]
  },
  {
   "cell_type": "code",
   "execution_count": 19,
   "id": "9a05399b-ef88-4565-b14a-f208d69f01c5",
   "metadata": {},
   "outputs": [
    {
     "data": {
      "image/png": "[encoded data removed]",
      "text/plain": [
       "<Figure size 432x288 with 1 Axes>"
      ]
     },
     "metadata": {
      "needs_background": "light"
     },
     "output_type": "display_data"
    }
   ],
   "source": [
    "unfair_analyzer.combo()\n",
    "unfair_analyzer.combos[:10].plot.bar();"
   ]
  },
  {
   "cell_type": "markdown",
   "id": "1b47f5b6-188d-4d24-9c2f-687b430e6624",
   "metadata": {},
   "source": [
    "## Scenario 3: Letters of the Roman Alphabet"
   ]
  },
  {
   "cell_type": "markdown",
   "id": "89fb0616-93e7-466e-927b-98dff556c907",
   "metadata": {
    "tags": []
   },
   "source": [
    "#### 1. Create a \"die\" of letters from a to z with weights based on their frequency of usage. See Appendix for these weights."
   ]
  },
  {
   "cell_type": "code",
   "execution_count": 20,
   "id": "076ba4d2-e0f3-4687-aef1-719d22e27703",
   "metadata": {},
   "outputs": [],
   "source": [
    "letter_freqs = pd.read_csv('letter-freqs.csv', sep = '\\t', header = None)\n",
    "letters = [letter_freqs.iloc[i][0] for i in range(len(letter_freqs))]\n",
    "die = Die(letters)\n",
    "for i in range(len(letter_freqs)):\n",
    "    die.change_weight(letter_freqs.iloc[i][0], letter_freqs.iloc[i][1])"
   ]
  },
  {
   "cell_type": "markdown",
   "id": "2d5b697d-5ad1-4530-aaa0-d7994c971f6c",
   "metadata": {},
   "source": [
    "#### 2. Play a game involving 5 of these dice with 1000 rolls."
   ]
  },
  {
   "cell_type": "code",
   "execution_count": 21,
   "id": "ec39afdd-10ca-4e76-941a-e7cb848a1860",
   "metadata": {},
   "outputs": [],
   "source": [
    "num_rolls = 1000\n",
    "game = Game([die, die, die, die, die])\n",
    "game.play(num_rolls)"
   ]
  },
  {
   "cell_type": "markdown",
   "id": "d0652c1a-faca-497c-ba03-59aa9ad0ab6d",
   "metadata": {},
   "source": [
    "#### 3. How many combos can you that look like actual English words?"
   ]
  },
  {
   "cell_type": "code",
   "execution_count": 22,
   "id": "bdcec28b-9b08-41f7-ac59-9dfce6adcfe8",
   "metadata": {},
   "outputs": [],
   "source": [
    "words = game.show_result().iloc[:,0] + game.show_result().iloc[:,1] + \\\n",
    "game.show_result().iloc[:,2] + game.show_result().iloc[:,3] + \\\n",
    "game.show_result().iloc[:,4]\n",
    "words = words.str.lower()"
   ]
  },
  {
   "cell_type": "code",
   "execution_count": 23,
   "id": "07289361-302c-4f7b-a383-7db2e755890e",
   "metadata": {},
   "outputs": [
    {
     "name": "stdout",
     "output_type": "stream",
     "text": [
      "Actual Word Count: 5\n"
     ]
    }
   ],
   "source": [
    "#import a corpus of five letter words from The Stanford GraphBase to \n",
    "#count how many of the randomly generated combos match an element of \n",
    "#this dataset\n",
    "five_letter_words = pd.read_csv('sgb-words.txt', header = None)\n",
    "actual_word_count = five_letter_words.isin(words.values).sum()[0]\n",
    "print('Actual Word Count:', actual_word_count)"
   ]
  },
  {
   "cell_type": "markdown",
   "id": "1ec47d49-c445-40ed-a61c-5e426466f55f",
   "metadata": {},
   "source": [
    "#### 4. Based on your eye count, what is the relative frequency of these words versus the rest?"
   ]
  },
  {
   "cell_type": "code",
   "execution_count": 24,
   "id": "3c29b7fe-17af-4671-b89b-1f2454b89ae6",
   "metadata": {},
   "outputs": [
    {
     "name": "stdout",
     "output_type": "stream",
     "text": [
      "Relative Actual Word Count: 0.005\n"
     ]
    }
   ],
   "source": [
    "relative_word_frequency = actual_word_count/num_rolls\n",
    "print('Relative Actual Word Count:', relative_word_frequency)"
   ]
  },
  {
   "cell_type": "markdown",
   "id": "6ced706c-19e7-4e79-b171-bfb076f822b4",
   "metadata": {},
   "source": [
    "# Directory Listing\n",
    "\n",
    "A code block that executes the following bash command: \n",
    "\n",
    "```bash\n",
    "!ls -lRF -o\n",
    "```"
   ]
  },
  {
   "cell_type": "code",
   "execution_count": 25,
   "id": "e874b9c2-1dcf-4120-a3e7-18fc959f9a85",
   "metadata": {},
   "outputs": [
    {
     "name": "stdout",
     "output_type": "stream",
     "text": [
      "total 376\n",
      "-rw-r--r--  1 griffinmccauley   1073 Jul 12 09:03 LICENSE\n",
      "-rw-r--r--  1 griffinmccauley   7733 Jul 14 12:56 README.md\n",
      "-rw-r--r--  1 griffinmccauley  78115 Jul 14 14:57 final-project-submission.ipynb\n",
      "-rw-r--r--@ 1 griffinmccauley    234 Jul 12 11:39 letter-freqs.csv\n",
      "drwxr-xr-x  6 griffinmccauley    192 Jul 14 14:58 \u001b[34mmontecarlo\u001b[m\u001b[m/\n",
      "-rw-r--r--  1 griffinmccauley  49423 Jul 14 11:10 montecarlo_demo.ipynb\n",
      "-rw-r--r--  1 griffinmccauley    384 Jul 13 10:12 setup.py\n",
      "-rw-r--r--@ 1 griffinmccauley  34542 Jul 12 18:43 sgb-words.txt\n",
      "\n",
      "./montecarlo:\n",
      "total 24\n",
      "-rw-r--r--  1 griffinmccauley    42 Jul 12 09:15 __init__.py\n",
      "-rw-r--r--  1 griffinmccauley  6004 Jul 14 12:53 montecarlo.py\n",
      "drwxr-xr-x  5 griffinmccauley   160 Jul 14 11:02 \u001b[34mtests\u001b[m\u001b[m/\n",
      "\n",
      "./montecarlo/tests:\n",
      "total 24\n",
      "-rw-r--r--  1 griffinmccauley  2837 Jul 14 11:02 montecarlo_results.txt\n",
      "-rw-r--r--  1 griffinmccauley  6572 Jul 14 11:02 montecarlo_tests.py\n"
     ]
    }
   ],
   "source": [
    "#remove the __pycache__ directory produced by running the cell blocks\n",
    "# above since it is not an important part of the directory structure\n",
    "!rm -r ./montecarlo/__pycache__  \n",
    "!ls -lRF -o"
   ]
  },
  {
   "cell_type": "markdown",
   "id": "c4df835c-3cd7-4c74-a4de-51638607680b",
   "metadata": {
    "tags": []
   },
   "source": [
    "# Installation Output Listing\n",
    "    \n",
    "A code block that executes the code to install your your package and outputs a successful installation."
   ]
  },
  {
   "cell_type": "code",
   "execution_count": 26,
   "id": "3f8d0ced-8841-4357-bda1-151880cf91a0",
   "metadata": {},
   "outputs": [
    {
     "name": "stdout",
     "output_type": "stream",
     "text": [
      "Processing /Users/griffinmccauley/Documents/MSDS/DS5100/DS5100-Final-Project\n",
      "  Preparing metadata (setup.py) ... \u001b[?25ldone\n",
      "\u001b[?25hRequirement already satisfied: e in /Users/griffinmccauley/opt/anaconda3/lib/python3.9/site-packages (1.4.5)\n",
      "Building wheels for collected packages: Monte-Carlo-Simulator\n",
      "  Building wheel for Monte-Carlo-Simulator (setup.py) ... \u001b[?25ldone\n",
      "\u001b[?25h  Created wheel for Monte-Carlo-Simulator: filename=Monte_Carlo_Simulator-1.0.0-py3-none-any.whl size=4251 sha256=d3bc1e3a6d09d8f4f92fb84c7477386db2ae48da950099a3af39a0a84607917a\n",
      "  Stored in directory: /Users/griffinmccauley/Library/Caches/pip/wheels/64/2f/70/4c963c8e7da99aec15867c28d0be28866251154567ff50b2ea\n",
      "Successfully built Monte-Carlo-Simulator\n",
      "Installing collected packages: Monte-Carlo-Simulator\n",
      "  Attempting uninstall: Monte-Carlo-Simulator\n",
      "    Found existing installation: Monte-Carlo-Simulator 1.0.0\n",
      "    Uninstalling Monte-Carlo-Simulator-1.0.0:\n",
      "      Successfully uninstalled Monte-Carlo-Simulator-1.0.0\n",
      "Successfully installed Monte-Carlo-Simulator-1.0.0\n"
     ]
    }
   ],
   "source": [
    "!pip install e ."
   ]
  }
 ],
 "metadata": {
  "kernelspec": {
   "display_name": "Python 3 (ipykernel)",
   "language": "python",
   "name": "python3"
  },
  "language_info": {
   "codemirror_mode": {
    "name": "ipython",
    "version": 3
   },
   "file_extension": ".py",
   "mimetype": "text/x-python",
   "name": "python",
   "nbconvert_exporter": "python",
   "pygments_lexer": "ipython3",
   "version": "3.9.12"
  },
  "widgets": {
   "application/vnd.jupyter.widget-state+json": {
    "state": {},
    "version_major": 2,
    "version_minor": 0
   }
  }
 },
 "nbformat": 4,
 "nbformat_minor": 5
}
