{
 "cells": [
  {
   "cell_type": "markdown",
   "id": "ac45654b-9e65-4845-bf01-dc8709061224",
   "metadata": {},
   "source": [
    "# Scenarios\n",
    "To demonstrate the use of this simulator, here is a Jupyter Notebook that performs a three scenarios involving specific tasks."
   ]
  },
  {
   "cell_type": "markdown",
   "id": "ee100e45-ec5c-4ab7-97fe-361b2c7426f1",
   "metadata": {},
   "source": [
    "Before getting started, however, make sure to run the following code block in order to import the necessary packages and classes."
   ]
  },
  {
   "cell_type": "code",
   "execution_count": 1,
   "id": "3f8504c8-28de-4f99-b92b-b3a93e27c63f",
   "metadata": {},
   "outputs": [
    {
     "ename": "ModuleNotFoundError",
     "evalue": "No module named 'montecarlo'",
     "output_type": "error",
     "traceback": [
      "\u001b[0;31m---------------------------------------------------------------------------\u001b[0m",
      "\u001b[0;31mModuleNotFoundError\u001b[0m                       Traceback (most recent call last)",
      "Input \u001b[0;32mIn [1]\u001b[0m, in \u001b[0;36m<cell line: 8>\u001b[0;34m()\u001b[0m\n\u001b[1;32m      5\u001b[0m os\u001b[38;5;241m.\u001b[39mgetcwd()\n\u001b[1;32m      6\u001b[0m \u001b[38;5;66;03m# import sys\u001b[39;00m\n\u001b[1;32m      7\u001b[0m \u001b[38;5;66;03m# sys.path.append('/Users/griffinmccauley/Documents/MSDS/DS5100/DS5100-Final-Project')\u001b[39;00m\n\u001b[0;32m----> 8\u001b[0m \u001b[38;5;28;01mfrom\u001b[39;00m \u001b[38;5;21;01mmontecarlo\u001b[39;00m\u001b[38;5;21;01m.\u001b[39;00m\u001b[38;5;21;01mmontecarlo\u001b[39;00m \u001b[38;5;28;01mimport\u001b[39;00m Die, Game, Analyzer\n",
      "\u001b[0;31mModuleNotFoundError\u001b[0m: No module named 'montecarlo'"
     ]
    }
   ],
   "source": [
    "import numpy as np\n",
    "import pandas as pd\n",
    "import matplotlib.pyplot as plt\n",
    "import os\n",
    "os.getcwd()\n",
    "# import sys\n",
    "# sys.path.append('/Users/griffinmccauley/Documents/MSDS/DS5100/DS5100-Final-Project')\n",
    "from montecarlo.montecarlo import Die, Game, Analyzer"
   ]
  },
  {
   "cell_type": "markdown",
   "id": "9233ee73-df13-4647-97c4-a919467b9cf4",
   "metadata": {
    "tags": []
   },
   "source": [
    "## Scenario 1: A 2-headed coin"
   ]
  },
  {
   "cell_type": "markdown",
   "id": "89c4adc3-61a4-4d64-a36c-cac07567ca53",
   "metadata": {},
   "source": [
    "#### 1. Create a fair coin (with faces H and T) and one unfair coin, in which one of the faces has a weight of 5 and the others 1."
   ]
  },
  {
   "cell_type": "code",
   "execution_count": null,
   "id": "3523d713-fbbf-457e-8e65-1bf77355b2fb",
   "metadata": {},
   "outputs": [],
   "source": [
    "fair_coin = Die(['H', 'T'])\n",
    "unfair_coin = Die(['H', 'T'])\n",
    "unfair_coin.change_weight('H', 5)"
   ]
  },
  {
   "cell_type": "markdown",
   "id": "db65b268-1b6a-4576-ba89-4b15b5a715d3",
   "metadata": {},
   "source": [
    "#### 2. Play a game of 1000 flips of three coins with all fair dice."
   ]
  },
  {
   "cell_type": "code",
   "execution_count": null,
   "id": "03dcfac9-6d4c-4129-b06a-8ac9047fe9d8",
   "metadata": {},
   "outputs": [],
   "source": [
    "fair_game = Game([fair_coin, fair_coin, fair_coin])\n",
    "fair_game.play(1000)"
   ]
  },
  {
   "cell_type": "markdown",
   "id": "a39555fd-ea39-4cf0-9dfb-3194e8b169c0",
   "metadata": {},
   "source": [
    "#### 3. Play a game of 1000 flips with two unfair dice and one fair die."
   ]
  },
  {
   "cell_type": "code",
   "execution_count": null,
   "id": "5082daab-298f-4e45-ad8b-cb4357ce3521",
   "metadata": {},
   "outputs": [],
   "source": [
    "unfair_game = Game([fair_coin, unfair_coin, unfair_coin])\n",
    "unfair_game.play(1000)"
   ]
  },
  {
   "cell_type": "markdown",
   "id": "57c42f7d-23a1-40f6-a866-ad62b89198cf",
   "metadata": {},
   "source": [
    "#### 4. For each game, use an Analyzer object to determine the relative frequency of jackpots – getting either all Hs or all Ts.\n",
    "##### (5. Compute relative frequency as the number of jackpots over the total number of rolls.)"
   ]
  },
  {
   "cell_type": "code",
   "execution_count": null,
   "id": "a3eb1e81-23af-4156-a3a2-fccba0759aa7",
   "metadata": {},
   "outputs": [],
   "source": [
    "fair_analyzer = Analyzer(fair_game)\n",
    "relative_fair_frequency = fair_analyzer.jackpot()/1000\n",
    "print('Relative fair frequency:', relative_fair_frequency)"
   ]
  },
  {
   "cell_type": "code",
   "execution_count": null,
   "id": "f0f21f72-22aa-486e-a62c-2c210f46a474",
   "metadata": {},
   "outputs": [],
   "source": [
    "expected_fair_frequency = 2*(1/2)**3\n",
    "print('Expected fair frequency:', expected_fair_frequency)"
   ]
  },
  {
   "cell_type": "code",
   "execution_count": null,
   "id": "a4c0d64e-e6d0-4dfa-b055-51966147dedc",
   "metadata": {},
   "outputs": [],
   "source": [
    "unfair_analyzer = Analyzer(unfair_game)\n",
    "relative_unfair_frequency = unfair_analyzer.jackpot()/1000\n",
    "print('Relative unfair frequency:', relative_unfair_frequency)"
   ]
  },
  {
   "cell_type": "code",
   "execution_count": null,
   "id": "07d29944-edef-48a3-9aba-4bfca6376c5e",
   "metadata": {},
   "outputs": [],
   "source": [
    "expected_unfair_frequency = (1/2)*(5/6)*(5/6) + (1/2)*(1/6)*(1/6)\n",
    "print('Expected unfair frequency:', expected_unfair_frequency)"
   ]
  },
  {
   "cell_type": "markdown",
   "id": "e983d5de-fb69-4afd-8ef5-946d1596c8a5",
   "metadata": {},
   "source": [
    "#### 6. Show your results, comparing the two relative frequencies, in a simple bar chart."
   ]
  },
  {
   "cell_type": "code",
   "execution_count": null,
   "id": "2e04cbd6-6cad-4842-a836-2f263edf0040",
   "metadata": {},
   "outputs": [],
   "source": [
    "fig = plt.figure()\n",
    "\n",
    "plt.bar(['Relative Fair Frequency', 'Relative Unfair Frequency'], \n",
    "        [relative_fair_frequency, relative_unfair_frequency]);"
   ]
  },
  {
   "cell_type": "markdown",
   "id": "61247d2f-c0c8-4a59-9b0a-4ff44ad36377",
   "metadata": {},
   "source": [
    "## Scenario 2: A 6-sided die"
   ]
  },
  {
   "cell_type": "markdown",
   "id": "6202f614-f6e4-49e7-ba90-b62c7f1f4367",
   "metadata": {},
   "source": [
    "#### 1. Create a fair die and two unfair dice, all of six sides with the faces 1 through 6. One unfair die (Type 1) will weight 6 five times more than the others (i.e. it has weight of 5 and the others a weight of 1 each). The other unfair die (Type 2) will  weight 1 five times more than the others."
   ]
  },
  {
   "cell_type": "code",
   "execution_count": null,
   "id": "19276733-dfaf-4004-a20b-636815016c51",
   "metadata": {},
   "outputs": [],
   "source": [
    "fair_die = Die([1, 2, 3, 4, 5, 6])\n",
    "unfair_die_type1 = Die([1, 2, 3, 4, 5, 6])\n",
    "unfair_die_type1.change_weight(6, 5)\n",
    "unfair_die_type2 = Die([1, 2, 3, 4, 5, 6])\n",
    "unfair_die_type2.change_weight(1, 5)"
   ]
  },
  {
   "cell_type": "markdown",
   "id": "235ea178-a8c8-4386-bc42-81a8b30dc2cd",
   "metadata": {},
   "source": [
    "#### 2. Play a game of 10000 rolls with 5 fair dice."
   ]
  },
  {
   "cell_type": "code",
   "execution_count": null,
   "id": "1f248a04-32ca-4a51-b67c-107d4dd925aa",
   "metadata": {},
   "outputs": [],
   "source": [
    "fair_game = Game([fair_die, fair_die, fair_die, fair_die, fair_die])\n",
    "fair_game.play(10000)"
   ]
  },
  {
   "cell_type": "markdown",
   "id": "fdd50e96-54d8-4aee-85d6-a07ce6b4f915",
   "metadata": {},
   "source": [
    "#### 3. Play a game of 10000 rolls with 2 unfair dice of type 1, 1 unfair die of type 2, and the rest fair dice."
   ]
  },
  {
   "cell_type": "code",
   "execution_count": null,
   "id": "ddcbd693-d2f7-4940-8bd5-89864bcce34b",
   "metadata": {},
   "outputs": [],
   "source": [
    "unfair_game = Game([unfair_die_type1, unfair_die_type1, unfair_die_type2, fair_die, fair_die])\n",
    "unfair_game.play(10000)"
   ]
  },
  {
   "cell_type": "markdown",
   "id": "571db9c8-c643-4145-a4ca-405726e5f3f3",
   "metadata": {},
   "source": [
    "#### 4. For each game, use an Analyzer object to determine the relative frequency of jackpots and show your results, comparing the two relative frequencies, in a simple bar chart."
   ]
  },
  {
   "cell_type": "code",
   "execution_count": null,
   "id": "19aeaf50-33f0-4c49-b6e4-0fcbc265c727",
   "metadata": {},
   "outputs": [],
   "source": [
    "fair_analyzer = Analyzer(fair_game)\n",
    "fair_jackpots = fair_analyzer.jackpot()\n",
    "relative_fair_frequency = fair_jackpots/10000\n",
    "print(relative_fair_frequency)\n",
    "expected_fair_frequency = (1/6)**4\n",
    "print(expected_fair_frequency)"
   ]
  },
  {
   "cell_type": "code",
   "execution_count": null,
   "id": "b3733dda-3ace-4492-a028-1ae04e4a78fa",
   "metadata": {},
   "outputs": [],
   "source": [
    "unfair_analyzer = Analyzer(unfair_game)\n",
    "unfair_jackpots = unfair_analyzer.jackpot()\n",
    "relative_unfair_frequency = unfair_jackpots/10000\n",
    "print(relative_unfair_frequency)\n",
    "expected_unfair_frequency = ((1/10)*(1/10)*(1/2)*(1/6)*(1/6)) + ((1/10)*(1/10)*(1/10)*(1/6)*(1/6)) + \\\n",
    "((1/10)*(1/10)*(1/10)*(1/6)*(1/6)) + ((1/10)*(1/10)*(1/10)*(1/6)*(1/6)) + ((1/10)*(1/10)*(1/10)*(1/6)*(1/6)) + \\\n",
    "((1/2)*(1/2)*(1/10)*(1/6)*(1/6))\n",
    "print(expected_unfair_frequency)"
   ]
  },
  {
   "cell_type": "code",
   "execution_count": null,
   "id": "c6034f8c-e8cc-4d15-8bef-52a094563e03",
   "metadata": {},
   "outputs": [],
   "source": [
    "fig = plt.figure()\n",
    "\n",
    "plt.bar(['Relative Fair Frequency', 'Relative Unfair Frequency'], \n",
    "        [relative_fair_frequency, relative_unfair_frequency]);"
   ]
  },
  {
   "cell_type": "markdown",
   "id": "7a34c974-fb1e-4a10-8e35-853800a772be",
   "metadata": {},
   "source": [
    "#### 5. Also compute 10 most frequent combinations of faces for each game. Plot each of these as bar charts."
   ]
  },
  {
   "cell_type": "code",
   "execution_count": null,
   "id": "da362cdc-016f-46ef-9628-fd236a007753",
   "metadata": {},
   "outputs": [],
   "source": [
    "fair_analyzer.combo()\n",
    "fair_analyzer.combos[:10].plot.bar();"
   ]
  },
  {
   "cell_type": "code",
   "execution_count": null,
   "id": "5062a323-a5f3-4bcf-93da-443f20e4ec9a",
   "metadata": {},
   "outputs": [],
   "source": [
    "unfair_analyzer.combo()\n",
    "unfair_analyzer.combos[:10].plot.bar();"
   ]
  },
  {
   "cell_type": "markdown",
   "id": "55784670-ae1b-491d-a542-47696ff80a7e",
   "metadata": {},
   "source": [
    "## Scenario 3: Letters of the Roman Alphabet"
   ]
  },
  {
   "cell_type": "markdown",
   "id": "3c8f47a7-5bfb-46ea-8569-e9437fcffdea",
   "metadata": {},
   "source": [
    "#### 1. Create a \"die\" of letters from a to z with weights based on their frequency of usage. See Appendix for these weights."
   ]
  },
  {
   "cell_type": "code",
   "execution_count": null,
   "id": "16bbcef5-45e1-4ec9-ae26-454cbb6e8594",
   "metadata": {},
   "outputs": [],
   "source": [
    "import os\n",
    "os.chdir('/Users/griffinmccauley/Documents/MSDS/DS5100/DS5100-Final-Project')\n",
    "letter_freqs = pd.read_csv('letter-freqs.csv', sep = '\\t', header = None)\n",
    "letters = [letter_freqs.iloc[i][0] for i in range(len(letter_freqs))]\n",
    "die = Die(letters)\n",
    "for i in range(len(letter_freqs)):\n",
    "    die.change_weight(letter_freqs.iloc[i][0], letter_freqs.iloc[i][1])"
   ]
  },
  {
   "cell_type": "markdown",
   "id": "2651fff4-b5bf-4aa0-b125-1e89582dec9f",
   "metadata": {},
   "source": [
    "#### 2. Play a game involving 5 of these dice with 1000 rolls."
   ]
  },
  {
   "cell_type": "code",
   "execution_count": null,
   "id": "798a3438-85f9-4413-a67d-f06d1171a769",
   "metadata": {
    "tags": []
   },
   "outputs": [],
   "source": [
    "game = Game([die, die, die, die, die])\n",
    "game.play(100000)\n",
    "#game.show_result()\n",
    "#print(game.show_result().to_string())"
   ]
  },
  {
   "cell_type": "markdown",
   "id": "e1ceb31f-b8f5-406d-9a39-ea3b407cf441",
   "metadata": {},
   "source": [
    "#### 3. How many combos can you that look like actual English words?"
   ]
  },
  {
   "cell_type": "code",
   "execution_count": null,
   "id": "f38d6c44-e619-4108-b361-04b487c22634",
   "metadata": {
    "tags": []
   },
   "outputs": [],
   "source": [
    "words = game.show_result().iloc[:,0] + game.show_result().iloc[:,1] + game.show_result().iloc[:,2] + \\\n",
    "game.show_result().iloc[:,3] + game.show_result().iloc[:,4]\n",
    "words = words.str.lower()"
   ]
  },
  {
   "cell_type": "code",
   "execution_count": null,
   "id": "301d6a43-21b7-4761-bbc7-42cd0ba55a61",
   "metadata": {},
   "outputs": [],
   "source": [
    "five_letter_words = pd.read_csv('sgb-words.txt', header = None)\n",
    "actual_word_count = five_letter_words.isin(words.values).sum()[0]\n",
    "actual_word_count"
   ]
  },
  {
   "cell_type": "markdown",
   "id": "10407c67-e16e-469a-888c-7d2baebda0e7",
   "metadata": {},
   "source": [
    "#### 4. Based on your eye count, what is the relative frequency of these words versus the rest?"
   ]
  },
  {
   "cell_type": "code",
   "execution_count": null,
   "id": "393d26e2-c386-4060-83a5-981b52ad66dd",
   "metadata": {},
   "outputs": [],
   "source": [
    "relative_word_frequency = actual_word_count/100000\n",
    "relative_word_frequency"
   ]
  }
 ],
 "metadata": {
  "kernelspec": {
   "display_name": "Python 3 (ipykernel)",
   "language": "python",
   "name": "python3"
  },
  "language_info": {
   "codemirror_mode": {
    "name": "ipython",
    "version": 3
   },
   "file_extension": ".py",
   "mimetype": "text/x-python",
   "name": "python",
   "nbconvert_exporter": "python",
   "pygments_lexer": "ipython3",
   "version": "3.9.12"
  }
 },
 "nbformat": 4,
 "nbformat_minor": 5
}
