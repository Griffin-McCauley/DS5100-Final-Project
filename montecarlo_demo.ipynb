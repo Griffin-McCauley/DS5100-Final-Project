{
 "cells": [
  {
   "cell_type": "code",
   "execution_count": 27,
   "id": "73f14bdf-d9f5-44f8-82c7-989219650e90",
   "metadata": {},
   "outputs": [],
   "source": [
    "import numpy as np\n",
    "faces = np.array(['a','b','c','d'])\n",
    "weights = np.array([1,2,3,4])"
   ]
  },
  {
   "cell_type": "code",
   "execution_count": 28,
   "id": "71657f69-64b9-445c-ba47-cb01d9ac4547",
   "metadata": {},
   "outputs": [
    {
     "data": {
      "text/plain": [
       "array([ 1,  2, 10,  4])"
      ]
     },
     "execution_count": 28,
     "metadata": {},
     "output_type": "execute_result"
    }
   ],
   "source": [
    "weights[faces == 'c'] = 10\n",
    "weights"
   ]
  },
  {
   "cell_type": "code",
   "execution_count": 22,
   "id": "d8f77ce3-f407-43b5-8c34-f45685927196",
   "metadata": {},
   "outputs": [
    {
     "data": {
      "text/plain": [
       "[False, False, True, False]"
      ]
     },
     "execution_count": 22,
     "metadata": {},
     "output_type": "execute_result"
    }
   ],
   "source": [
    "[face=='c' for face in faces]"
   ]
  },
  {
   "cell_type": "code",
   "execution_count": null,
   "id": "816c56f5-e921-4940-b439-d19cea014eee",
   "metadata": {},
   "outputs": [],
   "source": []
  }
 ],
 "metadata": {
  "kernelspec": {
   "display_name": "Python 3 (ipykernel)",
   "language": "python",
   "name": "python3"
  },
  "language_info": {
   "codemirror_mode": {
    "name": "ipython",
    "version": 3
   },
   "file_extension": ".py",
   "mimetype": "text/x-python",
   "name": "python",
   "nbconvert_exporter": "python",
   "pygments_lexer": "ipython3",
   "version": "3.9.12"
  }
 },
 "nbformat": 4,
 "nbformat_minor": 5
}
