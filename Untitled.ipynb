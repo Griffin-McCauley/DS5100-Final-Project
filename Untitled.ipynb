{
 "cells": [
  {
   "cell_type": "code",
   "execution_count": 1,
   "id": "d2090f92-dfd8-42d7-8c8c-6d468254e11f",
   "metadata": {},
   "outputs": [
    {
     "name": "stdout",
     "output_type": "stream",
     "text": [
      "Welcome to my Monte Carlo module.\n"
     ]
    }
   ],
   "source": [
    "import numpy as np\n",
    "import pandas as pd\n",
    "import sys\n",
    "sys.path.append('/Users/griffinmccauley/Documents/MSDS/DS5100/DS5100-Final-Project')\n",
    "from montecarlo.montecarlo import Die, Game, Analyzer"
   ]
  },
  {
   "cell_type": "code",
   "execution_count": 2,
   "id": "96ee6d67-0e6b-4406-a3cc-bdaee59eb599",
   "metadata": {},
   "outputs": [],
   "source": [
    "td = Die(['hello','world','test'])"
   ]
  },
  {
   "cell_type": "code",
   "execution_count": 3,
   "id": "d3d4da64-1dd5-4b2e-aeb9-29de69ca3323",
   "metadata": {},
   "outputs": [
    {
     "data": {
      "text/plain": [
       "array([1., 1., 1.])"
      ]
     },
     "execution_count": 3,
     "metadata": {},
     "output_type": "execute_result"
    }
   ],
   "source": [
    "td.weights"
   ]
  },
  {
   "cell_type": "code",
   "execution_count": 4,
   "id": "d9d431ad-4bc9-472a-9512-cdb0fac00455",
   "metadata": {},
   "outputs": [],
   "source": [
    "td.change_weight('test','15')"
   ]
  },
  {
   "cell_type": "code",
   "execution_count": 5,
   "id": "6bfb0d96-4482-444b-9dce-29414829aaa1",
   "metadata": {},
   "outputs": [
    {
     "data": {
      "text/plain": [
       "array([ 1.,  1., 15.])"
      ]
     },
     "execution_count": 5,
     "metadata": {},
     "output_type": "execute_result"
    }
   ],
   "source": [
    "td.weights"
   ]
  },
  {
   "cell_type": "code",
   "execution_count": 6,
   "id": "8fc747f2-8a35-4460-93eb-c69052457ce2",
   "metadata": {},
   "outputs": [
    {
     "data": {
      "text/html": [
       "<div>\n",
       "<style scoped>\n",
       "    .dataframe tbody tr th:only-of-type {\n",
       "        vertical-align: middle;\n",
       "    }\n",
       "\n",
       "    .dataframe tbody tr th {\n",
       "        vertical-align: top;\n",
       "    }\n",
       "\n",
       "    .dataframe thead th {\n",
       "        text-align: right;\n",
       "    }\n",
       "</style>\n",
       "<table border=\"1\" class=\"dataframe\">\n",
       "  <thead>\n",
       "    <tr style=\"text-align: right;\">\n",
       "      <th></th>\n",
       "      <th>faces</th>\n",
       "      <th>weights</th>\n",
       "    </tr>\n",
       "  </thead>\n",
       "  <tbody>\n",
       "    <tr>\n",
       "      <th>0</th>\n",
       "      <td>hello</td>\n",
       "      <td>1.0</td>\n",
       "    </tr>\n",
       "    <tr>\n",
       "      <th>1</th>\n",
       "      <td>world</td>\n",
       "      <td>1.0</td>\n",
       "    </tr>\n",
       "    <tr>\n",
       "      <th>2</th>\n",
       "      <td>test</td>\n",
       "      <td>15.0</td>\n",
       "    </tr>\n",
       "  </tbody>\n",
       "</table>\n",
       "</div>"
      ],
      "text/plain": [
       "   faces  weights\n",
       "0  hello      1.0\n",
       "1  world      1.0\n",
       "2   test     15.0"
      ]
     },
     "execution_count": 6,
     "metadata": {},
     "output_type": "execute_result"
    }
   ],
   "source": [
    "td.show_die()"
   ]
  },
  {
   "cell_type": "code",
   "execution_count": 7,
   "id": "ca81ec86-c4ac-4ccb-b9cf-d4426884dbe9",
   "metadata": {},
   "outputs": [],
   "source": [
    "a = [1.,2,4,'hi']"
   ]
  },
  {
   "cell_type": "code",
   "execution_count": 8,
   "id": "8d9c0429-28cd-480e-bb9f-27d1d23c17c7",
   "metadata": {},
   "outputs": [
    {
     "data": {
      "text/plain": [
       "numpy.str_"
      ]
     },
     "execution_count": 8,
     "metadata": {},
     "output_type": "execute_result"
    }
   ],
   "source": [
    "a = np.array(a)\n",
    "type(a[2])"
   ]
  },
  {
   "cell_type": "code",
   "execution_count": 9,
   "id": "fd5c1315-774a-4b2e-9da2-0b7bcd9c72a0",
   "metadata": {},
   "outputs": [
    {
     "data": {
      "text/plain": [
       "{numpy.str_}"
      ]
     },
     "execution_count": 9,
     "metadata": {},
     "output_type": "execute_result"
    }
   ],
   "source": [
    "set(map(type, a))"
   ]
  },
  {
   "cell_type": "code",
   "execution_count": 10,
   "id": "890d5a4a-b207-4251-8218-6353fabe1b5d",
   "metadata": {},
   "outputs": [
    {
     "name": "stdout",
     "output_type": "stream",
     "text": [
      "[0.058823529411764705, 0.058823529411764705, 0.8823529411764706]\n"
     ]
    },
    {
     "data": {
      "text/plain": [
       "'test'"
      ]
     },
     "execution_count": 10,
     "metadata": {},
     "output_type": "execute_result"
    }
   ],
   "source": [
    "probs = [i/sum(td.weights) for i in td.weights]\n",
    "print(probs)\n",
    "td._die.faces.sample(weights=probs).values[0]"
   ]
  },
  {
   "cell_type": "code",
   "execution_count": 11,
   "id": "cf6afd69-5d48-4ffe-bee2-3bf04e80ec06",
   "metadata": {},
   "outputs": [],
   "source": [
    "samps = td.roll(100)"
   ]
  },
  {
   "cell_type": "code",
   "execution_count": 12,
   "id": "4367052e-05eb-44b0-8ef9-0401389d4de5",
   "metadata": {},
   "outputs": [
    {
     "data": {
      "text/plain": [
       "90"
      ]
     },
     "execution_count": 12,
     "metadata": {},
     "output_type": "execute_result"
    }
   ],
   "source": [
    "sum(np.array(samps)==\"test\")"
   ]
  },
  {
   "cell_type": "code",
   "execution_count": 13,
   "id": "0d011729-5c82-4d7e-82aa-c645c56cc79c",
   "metadata": {
    "tags": []
   },
   "outputs": [],
   "source": [
    "td._die.index = range(6,9)"
   ]
  },
  {
   "cell_type": "code",
   "execution_count": 14,
   "id": "d83cedbc-04d0-40d1-b06d-d4f9d0ed85a2",
   "metadata": {},
   "outputs": [],
   "source": [
    "td._die.index.name = 'roll_num'"
   ]
  },
  {
   "cell_type": "code",
   "execution_count": 15,
   "id": "b65c5473-23b2-455d-a1a0-e8de1953072e",
   "metadata": {},
   "outputs": [
    {
     "data": {
      "text/html": [
       "<div>\n",
       "<style scoped>\n",
       "    .dataframe tbody tr th:only-of-type {\n",
       "        vertical-align: middle;\n",
       "    }\n",
       "\n",
       "    .dataframe tbody tr th {\n",
       "        vertical-align: top;\n",
       "    }\n",
       "\n",
       "    .dataframe thead th {\n",
       "        text-align: right;\n",
       "    }\n",
       "</style>\n",
       "<table border=\"1\" class=\"dataframe\">\n",
       "  <thead>\n",
       "    <tr style=\"text-align: right;\">\n",
       "      <th></th>\n",
       "      <th>faces</th>\n",
       "      <th>weights</th>\n",
       "    </tr>\n",
       "    <tr>\n",
       "      <th>roll_num</th>\n",
       "      <th></th>\n",
       "      <th></th>\n",
       "    </tr>\n",
       "  </thead>\n",
       "  <tbody>\n",
       "    <tr>\n",
       "      <th>6</th>\n",
       "      <td>hello</td>\n",
       "      <td>1.0</td>\n",
       "    </tr>\n",
       "    <tr>\n",
       "      <th>7</th>\n",
       "      <td>world</td>\n",
       "      <td>1.0</td>\n",
       "    </tr>\n",
       "    <tr>\n",
       "      <th>8</th>\n",
       "      <td>test</td>\n",
       "      <td>15.0</td>\n",
       "    </tr>\n",
       "  </tbody>\n",
       "</table>\n",
       "</div>"
      ],
      "text/plain": [
       "          faces  weights\n",
       "roll_num                \n",
       "6         hello      1.0\n",
       "7         world      1.0\n",
       "8          test     15.0"
      ]
     },
     "execution_count": 15,
     "metadata": {},
     "output_type": "execute_result"
    }
   ],
   "source": [
    "td._die"
   ]
  },
  {
   "cell_type": "code",
   "execution_count": 17,
   "id": "bbfc10c7-4f2a-41c1-b493-baac768dc907",
   "metadata": {},
   "outputs": [
    {
     "data": {
      "text/plain": [
       "True"
      ]
     },
     "execution_count": 17,
     "metadata": {},
     "output_type": "execute_result"
    }
   ],
   "source": [
    "from montecarlo.montecarlo import Game\n",
    "dices = [Die(['a','b','c','d','e']),Die(['a','b','c','d','e']),Die(['a','b','c','d','e']),Die(['a','b','c','d','e'])]\n",
    "tg = Game(dices)\n",
    "all(type(die) == Die for die in dices)\n",
    "die1 = die2 = die3 = Die(['Ace', 'King', 'Queen', 'Jack'])\n",
    "die2.change_weight('Ace',10)\n",
    "die3._die.shape == (4,2)"
   ]
  },
  {
   "cell_type": "code",
   "execution_count": 18,
   "id": "bf89dc6f-4708-495a-9f3b-4b2e9703e926",
   "metadata": {},
   "outputs": [
    {
     "data": {
      "text/plain": [
       "array(['a', 'b', 'c', 'd', 'e'], dtype='<U1')"
      ]
     },
     "execution_count": 18,
     "metadata": {},
     "output_type": "execute_result"
    }
   ],
   "source": [
    "tg.dice[0].faces"
   ]
  },
  {
   "cell_type": "code",
   "execution_count": 19,
   "id": "cbf16f23-3157-411e-ae72-8cb05d8552f6",
   "metadata": {},
   "outputs": [],
   "source": [
    "tg.play(10)"
   ]
  },
  {
   "cell_type": "code",
   "execution_count": 20,
   "id": "0b22dfab-3748-4208-8fa6-a95ff1ce4aed",
   "metadata": {},
   "outputs": [
    {
     "data": {
      "text/plain": [
       "{'b', 'c', 'e'}"
      ]
     },
     "execution_count": 20,
     "metadata": {},
     "output_type": "execute_result"
    }
   ],
   "source": [
    "set(tg._results.iloc[0])"
   ]
  },
  {
   "cell_type": "code",
   "execution_count": 21,
   "id": "bc2e0bee-1d80-4461-b06e-4da7825466be",
   "metadata": {},
   "outputs": [
    {
     "data": {
      "text/html": [
       "<div>\n",
       "<style scoped>\n",
       "    .dataframe tbody tr th:only-of-type {\n",
       "        vertical-align: middle;\n",
       "    }\n",
       "\n",
       "    .dataframe tbody tr th {\n",
       "        vertical-align: top;\n",
       "    }\n",
       "\n",
       "    .dataframe thead th {\n",
       "        text-align: right;\n",
       "    }\n",
       "</style>\n",
       "<table border=\"1\" class=\"dataframe\">\n",
       "  <thead>\n",
       "    <tr style=\"text-align: right;\">\n",
       "      <th></th>\n",
       "      <th></th>\n",
       "      <th>face_rolled</th>\n",
       "    </tr>\n",
       "    <tr>\n",
       "      <th>die_number</th>\n",
       "      <th>roll_number</th>\n",
       "      <th></th>\n",
       "    </tr>\n",
       "  </thead>\n",
       "  <tbody>\n",
       "    <tr>\n",
       "      <th rowspan=\"10\" valign=\"top\">0</th>\n",
       "      <th>1</th>\n",
       "      <td>b</td>\n",
       "    </tr>\n",
       "    <tr>\n",
       "      <th>2</th>\n",
       "      <td>d</td>\n",
       "    </tr>\n",
       "    <tr>\n",
       "      <th>3</th>\n",
       "      <td>a</td>\n",
       "    </tr>\n",
       "    <tr>\n",
       "      <th>4</th>\n",
       "      <td>c</td>\n",
       "    </tr>\n",
       "    <tr>\n",
       "      <th>5</th>\n",
       "      <td>d</td>\n",
       "    </tr>\n",
       "    <tr>\n",
       "      <th>6</th>\n",
       "      <td>b</td>\n",
       "    </tr>\n",
       "    <tr>\n",
       "      <th>7</th>\n",
       "      <td>b</td>\n",
       "    </tr>\n",
       "    <tr>\n",
       "      <th>8</th>\n",
       "      <td>e</td>\n",
       "    </tr>\n",
       "    <tr>\n",
       "      <th>9</th>\n",
       "      <td>b</td>\n",
       "    </tr>\n",
       "    <tr>\n",
       "      <th>10</th>\n",
       "      <td>a</td>\n",
       "    </tr>\n",
       "    <tr>\n",
       "      <th rowspan=\"10\" valign=\"top\">1</th>\n",
       "      <th>1</th>\n",
       "      <td>e</td>\n",
       "    </tr>\n",
       "    <tr>\n",
       "      <th>2</th>\n",
       "      <td>a</td>\n",
       "    </tr>\n",
       "    <tr>\n",
       "      <th>3</th>\n",
       "      <td>c</td>\n",
       "    </tr>\n",
       "    <tr>\n",
       "      <th>4</th>\n",
       "      <td>a</td>\n",
       "    </tr>\n",
       "    <tr>\n",
       "      <th>5</th>\n",
       "      <td>a</td>\n",
       "    </tr>\n",
       "    <tr>\n",
       "      <th>6</th>\n",
       "      <td>c</td>\n",
       "    </tr>\n",
       "    <tr>\n",
       "      <th>7</th>\n",
       "      <td>e</td>\n",
       "    </tr>\n",
       "    <tr>\n",
       "      <th>8</th>\n",
       "      <td>a</td>\n",
       "    </tr>\n",
       "    <tr>\n",
       "      <th>9</th>\n",
       "      <td>e</td>\n",
       "    </tr>\n",
       "    <tr>\n",
       "      <th>10</th>\n",
       "      <td>e</td>\n",
       "    </tr>\n",
       "    <tr>\n",
       "      <th rowspan=\"10\" valign=\"top\">2</th>\n",
       "      <th>1</th>\n",
       "      <td>c</td>\n",
       "    </tr>\n",
       "    <tr>\n",
       "      <th>2</th>\n",
       "      <td>b</td>\n",
       "    </tr>\n",
       "    <tr>\n",
       "      <th>3</th>\n",
       "      <td>b</td>\n",
       "    </tr>\n",
       "    <tr>\n",
       "      <th>4</th>\n",
       "      <td>a</td>\n",
       "    </tr>\n",
       "    <tr>\n",
       "      <th>5</th>\n",
       "      <td>e</td>\n",
       "    </tr>\n",
       "    <tr>\n",
       "      <th>6</th>\n",
       "      <td>a</td>\n",
       "    </tr>\n",
       "    <tr>\n",
       "      <th>7</th>\n",
       "      <td>e</td>\n",
       "    </tr>\n",
       "    <tr>\n",
       "      <th>8</th>\n",
       "      <td>b</td>\n",
       "    </tr>\n",
       "    <tr>\n",
       "      <th>9</th>\n",
       "      <td>d</td>\n",
       "    </tr>\n",
       "    <tr>\n",
       "      <th>10</th>\n",
       "      <td>b</td>\n",
       "    </tr>\n",
       "    <tr>\n",
       "      <th rowspan=\"10\" valign=\"top\">3</th>\n",
       "      <th>1</th>\n",
       "      <td>c</td>\n",
       "    </tr>\n",
       "    <tr>\n",
       "      <th>2</th>\n",
       "      <td>d</td>\n",
       "    </tr>\n",
       "    <tr>\n",
       "      <th>3</th>\n",
       "      <td>d</td>\n",
       "    </tr>\n",
       "    <tr>\n",
       "      <th>4</th>\n",
       "      <td>d</td>\n",
       "    </tr>\n",
       "    <tr>\n",
       "      <th>5</th>\n",
       "      <td>e</td>\n",
       "    </tr>\n",
       "    <tr>\n",
       "      <th>6</th>\n",
       "      <td>c</td>\n",
       "    </tr>\n",
       "    <tr>\n",
       "      <th>7</th>\n",
       "      <td>a</td>\n",
       "    </tr>\n",
       "    <tr>\n",
       "      <th>8</th>\n",
       "      <td>c</td>\n",
       "    </tr>\n",
       "    <tr>\n",
       "      <th>9</th>\n",
       "      <td>b</td>\n",
       "    </tr>\n",
       "    <tr>\n",
       "      <th>10</th>\n",
       "      <td>e</td>\n",
       "    </tr>\n",
       "  </tbody>\n",
       "</table>\n",
       "</div>"
      ],
      "text/plain": [
       "                       face_rolled\n",
       "die_number roll_number            \n",
       "0          1                     b\n",
       "           2                     d\n",
       "           3                     a\n",
       "           4                     c\n",
       "           5                     d\n",
       "           6                     b\n",
       "           7                     b\n",
       "           8                     e\n",
       "           9                     b\n",
       "           10                    a\n",
       "1          1                     e\n",
       "           2                     a\n",
       "           3                     c\n",
       "           4                     a\n",
       "           5                     a\n",
       "           6                     c\n",
       "           7                     e\n",
       "           8                     a\n",
       "           9                     e\n",
       "           10                    e\n",
       "2          1                     c\n",
       "           2                     b\n",
       "           3                     b\n",
       "           4                     a\n",
       "           5                     e\n",
       "           6                     a\n",
       "           7                     e\n",
       "           8                     b\n",
       "           9                     d\n",
       "           10                    b\n",
       "3          1                     c\n",
       "           2                     d\n",
       "           3                     d\n",
       "           4                     d\n",
       "           5                     e\n",
       "           6                     c\n",
       "           7                     a\n",
       "           8                     c\n",
       "           9                     b\n",
       "           10                    e"
      ]
     },
     "execution_count": 21,
     "metadata": {},
     "output_type": "execute_result"
    }
   ],
   "source": [
    "test = tg.show_result('narrow')\n",
    "test.index.names == ['die_number', 'roll_number']\n",
    "test.columns[0] == 'face_rolled'\n",
    "test"
   ]
  },
  {
   "cell_type": "code",
   "execution_count": 22,
   "id": "f0494149-5795-4ae3-878b-260a3bc8c2be",
   "metadata": {},
   "outputs": [
    {
     "data": {
      "text/plain": [
       "True"
      ]
     },
     "execution_count": 22,
     "metadata": {},
     "output_type": "execute_result"
    }
   ],
   "source": [
    "all(np.array(sorted([1,2,3,4,5])) == np.array(sorted([1,2,3,5,4])))"
   ]
  },
  {
   "cell_type": "code",
   "execution_count": 23,
   "id": "a6c59711-6f5f-4649-8827-ca13af8c3a1b",
   "metadata": {},
   "outputs": [
    {
     "data": {
      "text/html": [
       "<div>\n",
       "<style scoped>\n",
       "    .dataframe tbody tr th:only-of-type {\n",
       "        vertical-align: middle;\n",
       "    }\n",
       "\n",
       "    .dataframe tbody tr th {\n",
       "        vertical-align: top;\n",
       "    }\n",
       "\n",
       "    .dataframe thead th {\n",
       "        text-align: right;\n",
       "    }\n",
       "</style>\n",
       "<table border=\"1\" class=\"dataframe\">\n",
       "  <thead>\n",
       "    <tr style=\"text-align: right;\">\n",
       "      <th>die_number</th>\n",
       "      <th>0</th>\n",
       "      <th>1</th>\n",
       "    </tr>\n",
       "    <tr>\n",
       "      <th>roll_number</th>\n",
       "      <th></th>\n",
       "      <th></th>\n",
       "    </tr>\n",
       "  </thead>\n",
       "  <tbody>\n",
       "    <tr>\n",
       "      <th>1</th>\n",
       "      <td>King</td>\n",
       "      <td>Queen</td>\n",
       "    </tr>\n",
       "    <tr>\n",
       "      <th>2</th>\n",
       "      <td>Jack</td>\n",
       "      <td>Jack</td>\n",
       "    </tr>\n",
       "    <tr>\n",
       "      <th>3</th>\n",
       "      <td>Jack</td>\n",
       "      <td>Queen</td>\n",
       "    </tr>\n",
       "    <tr>\n",
       "      <th>4</th>\n",
       "      <td>King</td>\n",
       "      <td>Ace</td>\n",
       "    </tr>\n",
       "    <tr>\n",
       "      <th>5</th>\n",
       "      <td>Jack</td>\n",
       "      <td>Jack</td>\n",
       "    </tr>\n",
       "    <tr>\n",
       "      <th>6</th>\n",
       "      <td>King</td>\n",
       "      <td>Ace</td>\n",
       "    </tr>\n",
       "    <tr>\n",
       "      <th>7</th>\n",
       "      <td>Queen</td>\n",
       "      <td>Jack</td>\n",
       "    </tr>\n",
       "    <tr>\n",
       "      <th>8</th>\n",
       "      <td>Ace</td>\n",
       "      <td>Ace</td>\n",
       "    </tr>\n",
       "    <tr>\n",
       "      <th>9</th>\n",
       "      <td>Ace</td>\n",
       "      <td>Ace</td>\n",
       "    </tr>\n",
       "    <tr>\n",
       "      <th>10</th>\n",
       "      <td>King</td>\n",
       "      <td>Queen</td>\n",
       "    </tr>\n",
       "  </tbody>\n",
       "</table>\n",
       "</div>"
      ],
      "text/plain": [
       "die_number       0      1\n",
       "roll_number              \n",
       "1             King  Queen\n",
       "2             Jack   Jack\n",
       "3             Jack  Queen\n",
       "4             King    Ace\n",
       "5             Jack   Jack\n",
       "6             King    Ace\n",
       "7            Queen   Jack\n",
       "8              Ace    Ace\n",
       "9              Ace    Ace\n",
       "10            King  Queen"
      ]
     },
     "execution_count": 23,
     "metadata": {},
     "output_type": "execute_result"
    }
   ],
   "source": [
    "die1 = Die(['Ace', 'King', 'Queen', 'Jack'])\n",
    "die2 = Die(['Ace', 'King', 'Queen', 'Jack'])\n",
    "game = Game([die1, die2])\n",
    "game.play(10)\n",
    "result = game.show_result('wide')\n",
    "result#.value_counts().to_frame()"
   ]
  },
  {
   "cell_type": "code",
   "execution_count": 24,
   "id": "ee10a020-28da-49fe-8a5a-7f841b439778",
   "metadata": {},
   "outputs": [
    {
     "data": {
      "text/plain": [
       "0"
      ]
     },
     "execution_count": 24,
     "metadata": {},
     "output_type": "execute_result"
    }
   ],
   "source": [
    "sum(list(result.iloc[7] == 'Jack'))"
   ]
  },
  {
   "cell_type": "code",
   "execution_count": 25,
   "id": "e89af2ed-4835-4e02-a725-90c107515e07",
   "metadata": {},
   "outputs": [
    {
     "data": {
      "text/html": [
       "<div>\n",
       "<style scoped>\n",
       "    .dataframe tbody tr th:only-of-type {\n",
       "        vertical-align: middle;\n",
       "    }\n",
       "\n",
       "    .dataframe tbody tr th {\n",
       "        vertical-align: top;\n",
       "    }\n",
       "\n",
       "    .dataframe thead th {\n",
       "        text-align: right;\n",
       "    }\n",
       "</style>\n",
       "<table border=\"1\" class=\"dataframe\">\n",
       "  <thead>\n",
       "    <tr style=\"text-align: right;\">\n",
       "      <th></th>\n",
       "      <th></th>\n",
       "      <th>counts</th>\n",
       "    </tr>\n",
       "    <tr>\n",
       "      <th>0</th>\n",
       "      <th>1</th>\n",
       "      <th></th>\n",
       "    </tr>\n",
       "  </thead>\n",
       "  <tbody>\n",
       "    <tr>\n",
       "      <th rowspan=\"2\" valign=\"top\">Ace</th>\n",
       "      <th>Ace</th>\n",
       "      <td>2</td>\n",
       "    </tr>\n",
       "    <tr>\n",
       "      <th>King</th>\n",
       "      <td>2</td>\n",
       "    </tr>\n",
       "    <tr>\n",
       "      <th rowspan=\"2\" valign=\"top\">Jack</th>\n",
       "      <th>Jack</th>\n",
       "      <td>2</td>\n",
       "    </tr>\n",
       "    <tr>\n",
       "      <th>Queen</th>\n",
       "      <td>2</td>\n",
       "    </tr>\n",
       "    <tr>\n",
       "      <th>King</th>\n",
       "      <th>Queen</th>\n",
       "      <td>2</td>\n",
       "    </tr>\n",
       "  </tbody>\n",
       "</table>\n",
       "</div>"
      ],
      "text/plain": [
       "            counts\n",
       "0    1            \n",
       "Ace  Ace         2\n",
       "     King        2\n",
       "Jack Jack        2\n",
       "     Queen       2\n",
       "King Queen       2"
      ]
     },
     "execution_count": 25,
     "metadata": {},
     "output_type": "execute_result"
    }
   ],
   "source": [
    "testdata = [sorted(list(result.iloc[i])) for i in range(len(result))]\n",
    "pd.DataFrame(testdata).value_counts().to_frame('counts')"
   ]
  },
  {
   "cell_type": "code",
   "execution_count": 26,
   "id": "a5499592-83f7-4253-866f-d6cad72f7104",
   "metadata": {},
   "outputs": [
    {
     "data": {
      "text/plain": [
       "[['Ace', 'King'],\n",
       " ['Jack', 'Queen'],\n",
       " ['King', 'Queen'],\n",
       " ['Ace', 'Ace'],\n",
       " ['Jack', 'Jack']]"
      ]
     },
     "execution_count": 26,
     "metadata": {},
     "output_type": "execute_result"
    }
   ],
   "source": [
    "unique_data = [list(x) for x in set(tuple(x) for x in testdata)]\n",
    "unique_data"
   ]
  },
  {
   "cell_type": "code",
   "execution_count": 27,
   "id": "0a20edd3-0040-4dff-8b77-cd89b5cb4984",
   "metadata": {},
   "outputs": [],
   "source": [
    "analyzer = Analyzer(game)"
   ]
  },
  {
   "cell_type": "code",
   "execution_count": 30,
   "id": "20e2dd19-848d-46ac-8608-619f8ac11c47",
   "metadata": {},
   "outputs": [
    {
     "data": {
      "text/html": [
       "<div>\n",
       "<style scoped>\n",
       "    .dataframe tbody tr th:only-of-type {\n",
       "        vertical-align: middle;\n",
       "    }\n",
       "\n",
       "    .dataframe tbody tr th {\n",
       "        vertical-align: top;\n",
       "    }\n",
       "\n",
       "    .dataframe thead th {\n",
       "        text-align: right;\n",
       "    }\n",
       "</style>\n",
       "<table border=\"1\" class=\"dataframe\">\n",
       "  <thead>\n",
       "    <tr style=\"text-align: right;\">\n",
       "      <th></th>\n",
       "      <th></th>\n",
       "      <th>counts</th>\n",
       "    </tr>\n",
       "    <tr>\n",
       "      <th>0</th>\n",
       "      <th>1</th>\n",
       "      <th></th>\n",
       "    </tr>\n",
       "  </thead>\n",
       "  <tbody>\n",
       "    <tr>\n",
       "      <th rowspan=\"2\" valign=\"top\">Ace</th>\n",
       "      <th>Ace</th>\n",
       "      <td>2</td>\n",
       "    </tr>\n",
       "    <tr>\n",
       "      <th>King</th>\n",
       "      <td>2</td>\n",
       "    </tr>\n",
       "    <tr>\n",
       "      <th rowspan=\"2\" valign=\"top\">Jack</th>\n",
       "      <th>Jack</th>\n",
       "      <td>2</td>\n",
       "    </tr>\n",
       "    <tr>\n",
       "      <th>Queen</th>\n",
       "      <td>2</td>\n",
       "    </tr>\n",
       "    <tr>\n",
       "      <th>King</th>\n",
       "      <th>Queen</th>\n",
       "      <td>2</td>\n",
       "    </tr>\n",
       "  </tbody>\n",
       "</table>\n",
       "</div>"
      ],
      "text/plain": [
       "            counts\n",
       "0    1            \n",
       "Ace  Ace         2\n",
       "     King        2\n",
       "Jack Jack        2\n",
       "     Queen       2\n",
       "King Queen       2"
      ]
     },
     "execution_count": 30,
     "metadata": {},
     "output_type": "execute_result"
    }
   ],
   "source": [
    "combos = analyzer.combo()\n",
    "analyzer.combos\n",
    "#sum(analyzer.combos['counts'])"
   ]
  },
  {
   "cell_type": "code",
   "execution_count": 31,
   "id": "a4a5655a-7fd5-4604-98f6-cdfb69f4e4a8",
   "metadata": {},
   "outputs": [
    {
     "data": {
      "text/html": [
       "<div>\n",
       "<style scoped>\n",
       "    .dataframe tbody tr th:only-of-type {\n",
       "        vertical-align: middle;\n",
       "    }\n",
       "\n",
       "    .dataframe tbody tr th {\n",
       "        vertical-align: top;\n",
       "    }\n",
       "\n",
       "    .dataframe thead th {\n",
       "        text-align: right;\n",
       "    }\n",
       "</style>\n",
       "<table border=\"1\" class=\"dataframe\">\n",
       "  <thead>\n",
       "    <tr style=\"text-align: right;\">\n",
       "      <th></th>\n",
       "      <th>jackpot</th>\n",
       "    </tr>\n",
       "    <tr>\n",
       "      <th>roll_number</th>\n",
       "      <th></th>\n",
       "    </tr>\n",
       "  </thead>\n",
       "  <tbody>\n",
       "    <tr>\n",
       "      <th>1</th>\n",
       "      <td>False</td>\n",
       "    </tr>\n",
       "    <tr>\n",
       "      <th>2</th>\n",
       "      <td>True</td>\n",
       "    </tr>\n",
       "    <tr>\n",
       "      <th>3</th>\n",
       "      <td>False</td>\n",
       "    </tr>\n",
       "    <tr>\n",
       "      <th>4</th>\n",
       "      <td>False</td>\n",
       "    </tr>\n",
       "    <tr>\n",
       "      <th>5</th>\n",
       "      <td>True</td>\n",
       "    </tr>\n",
       "    <tr>\n",
       "      <th>6</th>\n",
       "      <td>False</td>\n",
       "    </tr>\n",
       "    <tr>\n",
       "      <th>7</th>\n",
       "      <td>False</td>\n",
       "    </tr>\n",
       "    <tr>\n",
       "      <th>8</th>\n",
       "      <td>True</td>\n",
       "    </tr>\n",
       "    <tr>\n",
       "      <th>9</th>\n",
       "      <td>True</td>\n",
       "    </tr>\n",
       "    <tr>\n",
       "      <th>10</th>\n",
       "      <td>False</td>\n",
       "    </tr>\n",
       "  </tbody>\n",
       "</table>\n",
       "</div>"
      ],
      "text/plain": [
       "             jackpot\n",
       "roll_number         \n",
       "1              False\n",
       "2               True\n",
       "3              False\n",
       "4              False\n",
       "5               True\n",
       "6              False\n",
       "7              False\n",
       "8               True\n",
       "9               True\n",
       "10             False"
      ]
     },
     "execution_count": 31,
     "metadata": {},
     "output_type": "execute_result"
    }
   ],
   "source": [
    "analyzer.jackpot()\n",
    "analyzer.jackpots"
   ]
  },
  {
   "cell_type": "code",
   "execution_count": 32,
   "id": "444a218b-53a3-48ac-a8e6-03d881c47310",
   "metadata": {},
   "outputs": [
    {
     "data": {
      "text/plain": [
       "array([1, 2, 3])"
      ]
     },
     "execution_count": 32,
     "metadata": {},
     "output_type": "execute_result"
    }
   ],
   "source": [
    "np.unique(np.array([[1,2],[2,1],[2,2],[3,2],[2,3]]))"
   ]
  },
  {
   "cell_type": "code",
   "execution_count": 36,
   "id": "496470bd-dce6-4bc4-97d9-018e9458f603",
   "metadata": {},
   "outputs": [
    {
     "data": {
      "text/html": [
       "<div>\n",
       "<style scoped>\n",
       "    .dataframe tbody tr th:only-of-type {\n",
       "        vertical-align: middle;\n",
       "    }\n",
       "\n",
       "    .dataframe tbody tr th {\n",
       "        vertical-align: top;\n",
       "    }\n",
       "\n",
       "    .dataframe thead th {\n",
       "        text-align: right;\n",
       "    }\n",
       "</style>\n",
       "<table border=\"1\" class=\"dataframe\">\n",
       "  <thead>\n",
       "    <tr style=\"text-align: right;\">\n",
       "      <th></th>\n",
       "      <th>Ace</th>\n",
       "      <th>King</th>\n",
       "      <th>Queen</th>\n",
       "      <th>Jack</th>\n",
       "    </tr>\n",
       "    <tr>\n",
       "      <th>roll_number</th>\n",
       "      <th></th>\n",
       "      <th></th>\n",
       "      <th></th>\n",
       "      <th></th>\n",
       "    </tr>\n",
       "  </thead>\n",
       "  <tbody>\n",
       "    <tr>\n",
       "      <th>1</th>\n",
       "      <td>0</td>\n",
       "      <td>1</td>\n",
       "      <td>1</td>\n",
       "      <td>0</td>\n",
       "    </tr>\n",
       "    <tr>\n",
       "      <th>2</th>\n",
       "      <td>0</td>\n",
       "      <td>0</td>\n",
       "      <td>0</td>\n",
       "      <td>2</td>\n",
       "    </tr>\n",
       "    <tr>\n",
       "      <th>3</th>\n",
       "      <td>0</td>\n",
       "      <td>0</td>\n",
       "      <td>1</td>\n",
       "      <td>1</td>\n",
       "    </tr>\n",
       "    <tr>\n",
       "      <th>4</th>\n",
       "      <td>1</td>\n",
       "      <td>1</td>\n",
       "      <td>0</td>\n",
       "      <td>0</td>\n",
       "    </tr>\n",
       "    <tr>\n",
       "      <th>5</th>\n",
       "      <td>0</td>\n",
       "      <td>0</td>\n",
       "      <td>0</td>\n",
       "      <td>2</td>\n",
       "    </tr>\n",
       "    <tr>\n",
       "      <th>6</th>\n",
       "      <td>1</td>\n",
       "      <td>1</td>\n",
       "      <td>0</td>\n",
       "      <td>0</td>\n",
       "    </tr>\n",
       "    <tr>\n",
       "      <th>7</th>\n",
       "      <td>0</td>\n",
       "      <td>0</td>\n",
       "      <td>1</td>\n",
       "      <td>1</td>\n",
       "    </tr>\n",
       "    <tr>\n",
       "      <th>8</th>\n",
       "      <td>2</td>\n",
       "      <td>0</td>\n",
       "      <td>0</td>\n",
       "      <td>0</td>\n",
       "    </tr>\n",
       "    <tr>\n",
       "      <th>9</th>\n",
       "      <td>2</td>\n",
       "      <td>0</td>\n",
       "      <td>0</td>\n",
       "      <td>0</td>\n",
       "    </tr>\n",
       "    <tr>\n",
       "      <th>10</th>\n",
       "      <td>0</td>\n",
       "      <td>1</td>\n",
       "      <td>1</td>\n",
       "      <td>0</td>\n",
       "    </tr>\n",
       "  </tbody>\n",
       "</table>\n",
       "</div>"
      ],
      "text/plain": [
       "             Ace  King  Queen  Jack\n",
       "roll_number                        \n",
       "1              0     1      1     0\n",
       "2              0     0      0     2\n",
       "3              0     0      1     1\n",
       "4              1     1      0     0\n",
       "5              0     0      0     2\n",
       "6              1     1      0     0\n",
       "7              0     0      1     1\n",
       "8              2     0      0     0\n",
       "9              2     0      0     0\n",
       "10             0     1      1     0"
      ]
     },
     "execution_count": 36,
     "metadata": {},
     "output_type": "execute_result"
    }
   ],
   "source": [
    "analyzer.face_counts_per_roll"
   ]
  },
  {
   "cell_type": "code",
   "execution_count": 37,
   "id": "91ab8663-5f98-4de1-920c-f35d95157ac8",
   "metadata": {},
   "outputs": [
    {
     "data": {
      "text/plain": [
       "[True, True, True, True, True, True, True, True, True, True]"
      ]
     },
     "execution_count": 37,
     "metadata": {},
     "output_type": "execute_result"
    }
   ],
   "source": [
    "[sum(analyzer.face_counts_per_roll.iloc[i]) == 2 for i in range(len(analyzer.face_counts_per_roll))]"
   ]
  },
  {
   "cell_type": "code",
   "execution_count": null,
   "id": "0806b49e-55f7-4bff-bbfa-79238a88090d",
   "metadata": {},
   "outputs": [],
   "source": [
    "die1 = Die(['Ace', 'King', 'Queen', 'Jack'])\n",
    "die2 = Die(['Ace', 'King', 'Queen', 'Jack'])\n",
    "die3 = Die(['Ace', 'King', 'Queen', 'Jack'])\n",
    "game = Game([die1, die2, die3])\n",
    "game.play(10)\n",
    "analyzer = Analyzer(game)"
   ]
  },
  {
   "cell_type": "code",
   "execution_count": null,
   "id": "18fbbc63-0d4f-4c05-8aa9-50c7b74aa670",
   "metadata": {},
   "outputs": [],
   "source": [
    "analyzer.game._results\n",
    "#hasattr(analyzer, 'game._results')"
   ]
  },
  {
   "cell_type": "code",
   "execution_count": null,
   "id": "5112197d-b3d8-4fe2-99fb-9940fc902354",
   "metadata": {},
   "outputs": [],
   "source": []
  }
 ],
 "metadata": {
  "kernelspec": {
   "display_name": "Python 3 (ipykernel)",
   "language": "python",
   "name": "python3"
  },
  "language_info": {
   "codemirror_mode": {
    "name": "ipython",
    "version": 3
   },
   "file_extension": ".py",
   "mimetype": "text/x-python",
   "name": "python",
   "nbconvert_exporter": "python",
   "pygments_lexer": "ipython3",
   "version": "3.9.12"
  }
 },
 "nbformat": 4,
 "nbformat_minor": 5
}
